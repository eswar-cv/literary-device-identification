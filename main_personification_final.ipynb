{
 "cells": [
  {
   "attachments": {},
   "cell_type": "markdown",
   "metadata": {},
   "source": [
    "# UE20CS334 - Natural Language Processing - Project\n",
    "## Team 03\n",
    "## Literary device Identification - Personification\n",
    "\n",
    "### Team Members\n",
    "\n",
    "| Name                  | SRN           |\n",
    "| --------------------- | ------------- |\n",
    "| Ajay Anil Kumar       | PES2UG20CS028 |\n",
    "| C V Eswar Sai Reddy   | PES2UG20CS096 |\n",
    "| Rudra Narayan Samanta | PES2UG20CS286 |"
   ]
  },
  {
   "cell_type": "code",
   "execution_count": 1,
   "metadata": {},
   "outputs": [],
   "source": [
    "import numpy as np\n",
    "import pandas as pd\n",
    "import matplotlib.pyplot as plt\n",
    "from sklearn.model_selection import train_test_split\n",
    "import traceback\n",
    "import json\n",
    "from nltk.corpus import wordnet as wn\n",
    "import pandas as pd\n",
    "import json\n",
    "import random\n",
    "from sklearn.metrics import confusion_matrix, ConfusionMatrixDisplay\n",
    "import warnings\n",
    "warnings.filterwarnings(\"ignore\")\n",
    "from sklearn.linear_model import LogisticRegression\n",
    "from sklearn.tree import DecisionTreeClassifier\n",
    "from sklearn.ensemble import RandomForestClassifier\n",
    "from sklearn.svm import SVC, LinearSVC\n",
    "from sklearn.neighbors import KNeighborsClassifier\n",
    "from tensorflow.keras.models import Sequential\n",
    "from tensorflow.keras.layers import Dense\n",
    "from sklearn import metrics\n",
    "import pickle\n",
    "from tensorflow import keras\n",
    "from nltk.corpus import wordnet as wn\n",
    "import os\n",
    "import spacy\n",
    "from spacy import displacy\n",
    "from nltk.tag import _get_tagger, _pos_tag\n",
    "import tqdm\n",
    "from nltk import pos_tag\n",
    "disable = ['ner', 'senter']\n",
    "nlp = spacy.load(\"en_core_web_sm\", disable = disable)\n",
    "from nvp import extract_pair_from_sentence\n",
    "from sklearn.metrics import precision_recall_fscore_support\n",
    "from sklearn.metrics import precision_score, recall_score, accuracy_score , f1_score\n",
    "main_process = __name__ == '__main__'"
   ]
  },
  {
   "cell_type": "code",
   "execution_count": 2,
   "metadata": {},
   "outputs": [],
   "source": [
    "inanimate_models_dir = \"personification/save_inanimate_models\"\n",
    "nvpair_models_dir = \"personification/save_nvpair_models/\""
   ]
  },
  {
   "attachments": {},
   "cell_type": "markdown",
   "metadata": {},
   "source": [
    "### Declaring basic functions"
   ]
  },
  {
   "cell_type": "code",
   "execution_count": 3,
   "metadata": {},
   "outputs": [],
   "source": [
    "def train_model(model, x_train, y_train):\n",
    "    '''\n",
    "    Function to train model.\n",
    "\n",
    "    Trains the model and returns the model and history.\n",
    "    '''\n",
    "    print(\"Training\", model)\n",
    "    history = model.fit(x_train, y_train)\n",
    "    return model, history"
   ]
  },
  {
   "cell_type": "code",
   "execution_count": 4,
   "metadata": {},
   "outputs": [],
   "source": [
    "def plot_confusion_matrix(model, actual, predicted):\n",
    "    '''\n",
    "    Given actual values and predicted values plots the confusion matrix\n",
    "    '''\n",
    "    predicted = predicted.flatten()\n",
    "    confusion_matrix = metrics.confusion_matrix(actual, predicted)\n",
    "    cm_display = metrics.ConfusionMatrixDisplay(confusion_matrix = confusion_matrix, display_labels = [False, True])\n",
    "    cm_display.plot()\n",
    "    plt.title(model)\n",
    "    plt.show()\n"
   ]
  },
  {
   "cell_type": "code",
   "execution_count": 5,
   "metadata": {},
   "outputs": [],
   "source": [
    "def calc_accuracy(model, x_test, y_test, show_confusion_matrix = False):\n",
    "    '''\n",
    "    Given model, train data and test data reutrns the predictions and accuracy'''\n",
    "    try:\n",
    "        print(model)\n",
    "        predictions = model.predict(x_test)\n",
    "        modulator = lambda num: 0 if num < 0.5 else 1\n",
    "        modulator = np.vectorize(modulator)\n",
    "        predictions = modulator(predictions)\n",
    "        predictions = predictions.flatten()\n",
    "        y_test = y_test.flatten()\n",
    "        y_test.reshape(y_test.size)\n",
    "        results = predictions == y_test\n",
    "        f_res = list(results)\n",
    "        total = len(f_res)\n",
    "        positives = f_res.count(True)\n",
    "        if show_confusion_matrix:\n",
    "            plot_confusion_matrix(str(model), y_test, predictions)\n",
    "        return predictions, positives / total\n",
    "    except:\n",
    "        print(traceback.format_exc())"
   ]
  },
  {
   "cell_type": "code",
   "execution_count": 6,
   "metadata": {},
   "outputs": [],
   "source": [
    "def get_word_types(word, noun_only = True):\n",
    "    # print(word, type(word))\n",
    "    synsets = wn.synsets(str(word))\n",
    "    word_types = []\n",
    "    if noun_only:\n",
    "        for synset in synsets:\n",
    "            lexname = synset.lexname()\n",
    "            pos, word_type = lexname.split(\".\")\n",
    "            if pos == 'noun':\n",
    "                word_types.append(word_type)\n",
    "    else:\n",
    "        for synset in synsets:\n",
    "            lexname = synset.lexname()\n",
    "            pos, word_type = lexname.split(\".\")\n",
    "            word_types.append(word_type)\n",
    "    return set(word_types)"
   ]
  },
  {
   "cell_type": "code",
   "execution_count": 7,
   "metadata": {},
   "outputs": [],
   "source": [
    "class ensemble_classification_predictor:\n",
    "    def __init__(self, models):\n",
    "        if type(models) == dict:\n",
    "            self.models = list(models.values())\n",
    "        else:\n",
    "            self.models = models\n",
    "\n",
    "    def predict_ensemble(self, predictions):\n",
    "        true_count = 0\n",
    "        for prediction in predictions:\n",
    "            if prediction:\n",
    "                true_count += 1\n",
    "        if (true_count/len(predictions)) > 0.5:\n",
    "            return True\n",
    "        else:\n",
    "            return False\n",
    "    \n",
    "    def fix_predictions(self, predictions):\n",
    "        '''\n",
    "        if values are in range 0 to 1 - shifts to True or False\n",
    "        '''\n",
    "        predictions = np.array(predictions)\n",
    "        fixer = np.vectorize(lambda num: True if (num == True or num > 0.5) else False)\n",
    "        predictions = fixer(predictions)\n",
    "        return predictions\n",
    "    \n",
    "    def predict(self, x_data):\n",
    "        predictions = []\n",
    "        for model in self.models:\n",
    "            predictions.append(model.predict(x_data))\n",
    "        for num in range(len(predictions)):\n",
    "            predictions[num] = self.fix_predictions(predictions[num])\n",
    "        predictions_from_models = []\n",
    "        for num in range(len(predictions[0])):\n",
    "            predictions_from_models.append([arr[num] for arr in predictions])\n",
    "        predictions_final = [\n",
    "            self.predict_ensemble(row) for row in predictions_from_models\n",
    "        ]\n",
    "        return predictions_final\n"
   ]
  },
  {
   "cell_type": "code",
   "execution_count": 8,
   "metadata": {},
   "outputs": [],
   "source": [
    "def precision_recall_accuracy_f1(actual, predicted):\n",
    "    results = precision_score(actual, predicted), recall_score(actual, predicted), accuracy_score(actual, predicted), f1_score(actual, predicted)\n",
    "    print(list(zip(['precision:', 'recall:', 'accuracy:', 'f1_score:'], results)))\n",
    "    return results"
   ]
  },
  {
   "attachments": {},
   "cell_type": "markdown",
   "metadata": {},
   "source": [
    "## 1. Training model to identify inanimate words"
   ]
  },
  {
   "attachments": {},
   "cell_type": "markdown",
   "metadata": {},
   "source": [
    "### Generating dataset to train models to identify animate and inanimate nouns"
   ]
  },
  {
   "attachments": {},
   "cell_type": "markdown",
   "metadata": {},
   "source": [
    "### Loading different animate words and inanimate words"
   ]
  },
  {
   "cell_type": "code",
   "execution_count": 9,
   "metadata": {},
   "outputs": [
    {
     "name": "stdout",
     "output_type": "stream",
     "text": [
      "696 Animates and 684 Inanimates Found\n"
     ]
    }
   ],
   "source": [
    "animates = open(\"personification/store_animate_words.txt\", encoding = 'utf-8')\n",
    "inanimates = open(\"personification/store_inanimate_words.txt\", encoding = 'utf-8')\n",
    "animates = [line.strip() for line in animates]\n",
    "inanimates = [line.strip() for line in inanimates]\n",
    "print(f\"{len(animates)} Animates and {len(inanimates)} Inanimates Found\")"
   ]
  },
  {
   "cell_type": "code",
   "execution_count": 10,
   "metadata": {},
   "outputs": [],
   "source": [
    "animates_word_types = [(word, get_word_types(word)) for word in animates]\n",
    "inanimates_word_types = [(word, get_word_types(word)) for word in inanimates]"
   ]
  },
  {
   "cell_type": "code",
   "execution_count": 11,
   "metadata": {},
   "outputs": [
    {
     "name": "stdout",
     "output_type": "stream",
     "text": [
      "Total 26 Types Found\n",
      "{\"person\": 551, \"animal\": 350, \"food\": 68, \"group\": 72, \"time\": 11, \"artifact\": 663, \"cognition\": 50, \"Tops\": 8, \"attribute\": 46, \"act\": 133, \"communication\": 127, \"location\": 41, \"substance\": 88, \"object\": 80, \"plant\": 31, \"body\": 46, \"state\": 41, \"quantity\": 67, \"event\": 44, \"possession\": 18, \"shape\": 40, \"phenomenon\": 17, \"feeling\": 5, \"process\": 7, \"relation\": 6, \"motive\": 1}\n",
      "26 [('artifact', 663), ('person', 551), ('animal', 350), ('act', 133), ('communication', 127), ('substance', 88), ('object', 80), ('group', 72), ('food', 68), ('quantity', 67), ('cognition', 50), ('attribute', 46), ('body', 46), ('event', 44), ('location', 41), ('state', 41), ('shape', 40), ('plant', 31), ('possession', 18), ('phenomenon', 17), ('time', 11), ('Tops', 8), ('process', 7), ('relation', 6), ('feeling', 5), ('motive', 1)]\n"
     ]
    }
   ],
   "source": [
    "all_types = {}\n",
    "for pair in animates_word_types + inanimates_word_types:\n",
    "    for w_type in pair[1]:\n",
    "        if w_type in all_types:\n",
    "            all_types[w_type] += 1\n",
    "        else:\n",
    "            all_types[w_type] = 1\n",
    "print(f\"Total {len(all_types)} Types Found\")\n",
    "print(json.dumps(all_types))\n",
    "all_types = [(key, all_types[key]) for key in all_types]\n",
    "all_types.sort(key = lambda elem: elem[1], reverse = True)\n",
    "print(len(all_types), all_types)"
   ]
  },
  {
   "cell_type": "code",
   "execution_count": 12,
   "metadata": {},
   "outputs": [],
   "source": [
    "columns = [\"word\"] + [tp[0] for tp in all_types] + [\"class_type\"]"
   ]
  },
  {
   "cell_type": "code",
   "execution_count": 13,
   "metadata": {},
   "outputs": [],
   "source": [
    "num_types = len(all_types)      \n",
    "# all_types"
   ]
  },
  {
   "cell_type": "code",
   "execution_count": 14,
   "metadata": {},
   "outputs": [],
   "source": [
    "animates_rows = [\n",
    "    [\n",
    "        1 if all_types[num][0] in animate[1] else 0\n",
    "            for num in range(num_types)\n",
    "    ]\n",
    "    for animate in animates_word_types\n",
    "]\n",
    "\n",
    "final_animate_rows = [\n",
    "    [animates_word_types[num][0]] + animates_rows[num] + [0]\n",
    "        for num in range(len(animates_rows))\n",
    "]"
   ]
  },
  {
   "cell_type": "code",
   "execution_count": 15,
   "metadata": {},
   "outputs": [],
   "source": [
    "inanimates_rows = [\n",
    "    [\n",
    "        1 if all_types[num][0] in inanimate[1] else 0\n",
    "            for num in range(num_types)\n",
    "    ]\n",
    "    for inanimate in inanimates_word_types\n",
    "]\n",
    "\n",
    "final_inanimate_rows = [\n",
    "    [inanimates_word_types[num][0]] + inanimates_rows[num] + [1]\n",
    "        for num in range(len(inanimates_rows))\n",
    "]"
   ]
  },
  {
   "cell_type": "code",
   "execution_count": 16,
   "metadata": {},
   "outputs": [],
   "source": [
    "final_length = min(len(final_animate_rows), len(final_inanimate_rows))"
   ]
  },
  {
   "cell_type": "code",
   "execution_count": 17,
   "metadata": {},
   "outputs": [],
   "source": [
    "final_animates = random.sample(final_animate_rows, final_length)\n",
    "final_inanimates = random.sample(final_inanimate_rows, final_length)"
   ]
  },
  {
   "cell_type": "code",
   "execution_count": 18,
   "metadata": {},
   "outputs": [
    {
     "data": {
      "text/plain": [
       "(684, 684)"
      ]
     },
     "execution_count": 18,
     "metadata": {},
     "output_type": "execute_result"
    }
   ],
   "source": [
    "len(final_animates), len(final_inanimate_rows)"
   ]
  },
  {
   "cell_type": "code",
   "execution_count": 19,
   "metadata": {},
   "outputs": [],
   "source": [
    "df_animates = pd.DataFrame(\n",
    "    final_animates,\n",
    "    columns = columns\n",
    ")\n",
    "\n",
    "df_inanimates = pd.DataFrame(\n",
    "    final_inanimates,\n",
    "    columns = columns\n",
    ")"
   ]
  },
  {
   "cell_type": "code",
   "execution_count": 20,
   "metadata": {},
   "outputs": [
    {
     "data": {
      "text/plain": [
       "Index(['word', 'artifact', 'person', 'animal', 'act', 'communication',\n",
       "       'substance', 'object', 'group', 'food', 'quantity', 'cognition',\n",
       "       'attribute', 'body', 'event', 'location', 'state', 'shape', 'plant',\n",
       "       'possession', 'phenomenon', 'time', 'Tops', 'process', 'relation',\n",
       "       'feeling', 'motive', 'class_type'],\n",
       "      dtype='object')"
      ]
     },
     "execution_count": 20,
     "metadata": {},
     "output_type": "execute_result"
    }
   ],
   "source": [
    "df_animates.columns"
   ]
  },
  {
   "cell_type": "code",
   "execution_count": 21,
   "metadata": {},
   "outputs": [
    {
     "data": {
      "text/html": [
       "<div>\n",
       "<style scoped>\n",
       "    .dataframe tbody tr th:only-of-type {\n",
       "        vertical-align: middle;\n",
       "    }\n",
       "\n",
       "    .dataframe tbody tr th {\n",
       "        vertical-align: top;\n",
       "    }\n",
       "\n",
       "    .dataframe thead th {\n",
       "        text-align: right;\n",
       "    }\n",
       "</style>\n",
       "<table border=\"1\" class=\"dataframe\">\n",
       "  <thead>\n",
       "    <tr style=\"text-align: right;\">\n",
       "      <th></th>\n",
       "      <th>artifact</th>\n",
       "      <th>person</th>\n",
       "      <th>animal</th>\n",
       "      <th>act</th>\n",
       "      <th>communication</th>\n",
       "      <th>substance</th>\n",
       "      <th>object</th>\n",
       "      <th>group</th>\n",
       "      <th>food</th>\n",
       "      <th>quantity</th>\n",
       "      <th>...</th>\n",
       "      <th>plant</th>\n",
       "      <th>possession</th>\n",
       "      <th>phenomenon</th>\n",
       "      <th>time</th>\n",
       "      <th>Tops</th>\n",
       "      <th>process</th>\n",
       "      <th>relation</th>\n",
       "      <th>feeling</th>\n",
       "      <th>motive</th>\n",
       "      <th>class_type</th>\n",
       "    </tr>\n",
       "  </thead>\n",
       "  <tbody>\n",
       "    <tr>\n",
       "      <th>count</th>\n",
       "      <td>684.000000</td>\n",
       "      <td>684.000000</td>\n",
       "      <td>684.000000</td>\n",
       "      <td>684.000000</td>\n",
       "      <td>684.000000</td>\n",
       "      <td>684.000000</td>\n",
       "      <td>684.000000</td>\n",
       "      <td>684.000000</td>\n",
       "      <td>684.000000</td>\n",
       "      <td>684.000000</td>\n",
       "      <td>...</td>\n",
       "      <td>684.000000</td>\n",
       "      <td>684.000000</td>\n",
       "      <td>684.000000</td>\n",
       "      <td>684.000000</td>\n",
       "      <td>684.000000</td>\n",
       "      <td>684.0</td>\n",
       "      <td>684.0</td>\n",
       "      <td>684.000000</td>\n",
       "      <td>684.0</td>\n",
       "      <td>684.0</td>\n",
       "    </tr>\n",
       "    <tr>\n",
       "      <th>mean</th>\n",
       "      <td>0.106725</td>\n",
       "      <td>0.644737</td>\n",
       "      <td>0.450292</td>\n",
       "      <td>0.032164</td>\n",
       "      <td>0.051170</td>\n",
       "      <td>0.035088</td>\n",
       "      <td>0.027778</td>\n",
       "      <td>0.019006</td>\n",
       "      <td>0.067251</td>\n",
       "      <td>0.010234</td>\n",
       "      <td>...</td>\n",
       "      <td>0.016082</td>\n",
       "      <td>0.002924</td>\n",
       "      <td>0.004386</td>\n",
       "      <td>0.001462</td>\n",
       "      <td>0.005848</td>\n",
       "      <td>0.0</td>\n",
       "      <td>0.0</td>\n",
       "      <td>0.002924</td>\n",
       "      <td>0.0</td>\n",
       "      <td>0.0</td>\n",
       "    </tr>\n",
       "    <tr>\n",
       "      <th>std</th>\n",
       "      <td>0.308989</td>\n",
       "      <td>0.478943</td>\n",
       "      <td>0.497887</td>\n",
       "      <td>0.176564</td>\n",
       "      <td>0.220505</td>\n",
       "      <td>0.184136</td>\n",
       "      <td>0.164456</td>\n",
       "      <td>0.136645</td>\n",
       "      <td>0.250640</td>\n",
       "      <td>0.100718</td>\n",
       "      <td>...</td>\n",
       "      <td>0.125883</td>\n",
       "      <td>0.054034</td>\n",
       "      <td>0.066130</td>\n",
       "      <td>0.038236</td>\n",
       "      <td>0.076304</td>\n",
       "      <td>0.0</td>\n",
       "      <td>0.0</td>\n",
       "      <td>0.054034</td>\n",
       "      <td>0.0</td>\n",
       "      <td>0.0</td>\n",
       "    </tr>\n",
       "    <tr>\n",
       "      <th>min</th>\n",
       "      <td>0.000000</td>\n",
       "      <td>0.000000</td>\n",
       "      <td>0.000000</td>\n",
       "      <td>0.000000</td>\n",
       "      <td>0.000000</td>\n",
       "      <td>0.000000</td>\n",
       "      <td>0.000000</td>\n",
       "      <td>0.000000</td>\n",
       "      <td>0.000000</td>\n",
       "      <td>0.000000</td>\n",
       "      <td>...</td>\n",
       "      <td>0.000000</td>\n",
       "      <td>0.000000</td>\n",
       "      <td>0.000000</td>\n",
       "      <td>0.000000</td>\n",
       "      <td>0.000000</td>\n",
       "      <td>0.0</td>\n",
       "      <td>0.0</td>\n",
       "      <td>0.000000</td>\n",
       "      <td>0.0</td>\n",
       "      <td>0.0</td>\n",
       "    </tr>\n",
       "    <tr>\n",
       "      <th>25%</th>\n",
       "      <td>0.000000</td>\n",
       "      <td>0.000000</td>\n",
       "      <td>0.000000</td>\n",
       "      <td>0.000000</td>\n",
       "      <td>0.000000</td>\n",
       "      <td>0.000000</td>\n",
       "      <td>0.000000</td>\n",
       "      <td>0.000000</td>\n",
       "      <td>0.000000</td>\n",
       "      <td>0.000000</td>\n",
       "      <td>...</td>\n",
       "      <td>0.000000</td>\n",
       "      <td>0.000000</td>\n",
       "      <td>0.000000</td>\n",
       "      <td>0.000000</td>\n",
       "      <td>0.000000</td>\n",
       "      <td>0.0</td>\n",
       "      <td>0.0</td>\n",
       "      <td>0.000000</td>\n",
       "      <td>0.0</td>\n",
       "      <td>0.0</td>\n",
       "    </tr>\n",
       "    <tr>\n",
       "      <th>50%</th>\n",
       "      <td>0.000000</td>\n",
       "      <td>1.000000</td>\n",
       "      <td>0.000000</td>\n",
       "      <td>0.000000</td>\n",
       "      <td>0.000000</td>\n",
       "      <td>0.000000</td>\n",
       "      <td>0.000000</td>\n",
       "      <td>0.000000</td>\n",
       "      <td>0.000000</td>\n",
       "      <td>0.000000</td>\n",
       "      <td>...</td>\n",
       "      <td>0.000000</td>\n",
       "      <td>0.000000</td>\n",
       "      <td>0.000000</td>\n",
       "      <td>0.000000</td>\n",
       "      <td>0.000000</td>\n",
       "      <td>0.0</td>\n",
       "      <td>0.0</td>\n",
       "      <td>0.000000</td>\n",
       "      <td>0.0</td>\n",
       "      <td>0.0</td>\n",
       "    </tr>\n",
       "    <tr>\n",
       "      <th>75%</th>\n",
       "      <td>0.000000</td>\n",
       "      <td>1.000000</td>\n",
       "      <td>1.000000</td>\n",
       "      <td>0.000000</td>\n",
       "      <td>0.000000</td>\n",
       "      <td>0.000000</td>\n",
       "      <td>0.000000</td>\n",
       "      <td>0.000000</td>\n",
       "      <td>0.000000</td>\n",
       "      <td>0.000000</td>\n",
       "      <td>...</td>\n",
       "      <td>0.000000</td>\n",
       "      <td>0.000000</td>\n",
       "      <td>0.000000</td>\n",
       "      <td>0.000000</td>\n",
       "      <td>0.000000</td>\n",
       "      <td>0.0</td>\n",
       "      <td>0.0</td>\n",
       "      <td>0.000000</td>\n",
       "      <td>0.0</td>\n",
       "      <td>0.0</td>\n",
       "    </tr>\n",
       "    <tr>\n",
       "      <th>max</th>\n",
       "      <td>1.000000</td>\n",
       "      <td>1.000000</td>\n",
       "      <td>1.000000</td>\n",
       "      <td>1.000000</td>\n",
       "      <td>1.000000</td>\n",
       "      <td>1.000000</td>\n",
       "      <td>1.000000</td>\n",
       "      <td>1.000000</td>\n",
       "      <td>1.000000</td>\n",
       "      <td>1.000000</td>\n",
       "      <td>...</td>\n",
       "      <td>1.000000</td>\n",
       "      <td>1.000000</td>\n",
       "      <td>1.000000</td>\n",
       "      <td>1.000000</td>\n",
       "      <td>1.000000</td>\n",
       "      <td>0.0</td>\n",
       "      <td>0.0</td>\n",
       "      <td>1.000000</td>\n",
       "      <td>0.0</td>\n",
       "      <td>0.0</td>\n",
       "    </tr>\n",
       "  </tbody>\n",
       "</table>\n",
       "<p>8 rows × 27 columns</p>\n",
       "</div>"
      ],
      "text/plain": [
       "         artifact      person      animal         act  communication  \\\n",
       "count  684.000000  684.000000  684.000000  684.000000     684.000000   \n",
       "mean     0.106725    0.644737    0.450292    0.032164       0.051170   \n",
       "std      0.308989    0.478943    0.497887    0.176564       0.220505   \n",
       "min      0.000000    0.000000    0.000000    0.000000       0.000000   \n",
       "25%      0.000000    0.000000    0.000000    0.000000       0.000000   \n",
       "50%      0.000000    1.000000    0.000000    0.000000       0.000000   \n",
       "75%      0.000000    1.000000    1.000000    0.000000       0.000000   \n",
       "max      1.000000    1.000000    1.000000    1.000000       1.000000   \n",
       "\n",
       "        substance      object       group        food    quantity  ...  \\\n",
       "count  684.000000  684.000000  684.000000  684.000000  684.000000  ...   \n",
       "mean     0.035088    0.027778    0.019006    0.067251    0.010234  ...   \n",
       "std      0.184136    0.164456    0.136645    0.250640    0.100718  ...   \n",
       "min      0.000000    0.000000    0.000000    0.000000    0.000000  ...   \n",
       "25%      0.000000    0.000000    0.000000    0.000000    0.000000  ...   \n",
       "50%      0.000000    0.000000    0.000000    0.000000    0.000000  ...   \n",
       "75%      0.000000    0.000000    0.000000    0.000000    0.000000  ...   \n",
       "max      1.000000    1.000000    1.000000    1.000000    1.000000  ...   \n",
       "\n",
       "            plant  possession  phenomenon        time        Tops  process  \\\n",
       "count  684.000000  684.000000  684.000000  684.000000  684.000000    684.0   \n",
       "mean     0.016082    0.002924    0.004386    0.001462    0.005848      0.0   \n",
       "std      0.125883    0.054034    0.066130    0.038236    0.076304      0.0   \n",
       "min      0.000000    0.000000    0.000000    0.000000    0.000000      0.0   \n",
       "25%      0.000000    0.000000    0.000000    0.000000    0.000000      0.0   \n",
       "50%      0.000000    0.000000    0.000000    0.000000    0.000000      0.0   \n",
       "75%      0.000000    0.000000    0.000000    0.000000    0.000000      0.0   \n",
       "max      1.000000    1.000000    1.000000    1.000000    1.000000      0.0   \n",
       "\n",
       "       relation     feeling  motive  class_type  \n",
       "count     684.0  684.000000   684.0       684.0  \n",
       "mean        0.0    0.002924     0.0         0.0  \n",
       "std         0.0    0.054034     0.0         0.0  \n",
       "min         0.0    0.000000     0.0         0.0  \n",
       "25%         0.0    0.000000     0.0         0.0  \n",
       "50%         0.0    0.000000     0.0         0.0  \n",
       "75%         0.0    0.000000     0.0         0.0  \n",
       "max         0.0    1.000000     0.0         0.0  \n",
       "\n",
       "[8 rows x 27 columns]"
      ]
     },
     "execution_count": 21,
     "metadata": {},
     "output_type": "execute_result"
    }
   ],
   "source": [
    "df_animates.describe()"
   ]
  },
  {
   "cell_type": "code",
   "execution_count": 22,
   "metadata": {},
   "outputs": [
    {
     "data": {
      "text/plain": [
       "Index(['word', 'artifact', 'person', 'animal', 'act', 'communication',\n",
       "       'substance', 'object', 'group', 'food', 'quantity', 'cognition',\n",
       "       'attribute', 'body', 'event', 'location', 'state', 'shape', 'plant',\n",
       "       'possession', 'phenomenon', 'time', 'Tops', 'process', 'relation',\n",
       "       'feeling', 'motive', 'class_type'],\n",
       "      dtype='object')"
      ]
     },
     "execution_count": 22,
     "metadata": {},
     "output_type": "execute_result"
    }
   ],
   "source": [
    "df_inanimates.columns"
   ]
  },
  {
   "cell_type": "code",
   "execution_count": 23,
   "metadata": {},
   "outputs": [
    {
     "data": {
      "text/html": [
       "<div>\n",
       "<style scoped>\n",
       "    .dataframe tbody tr th:only-of-type {\n",
       "        vertical-align: middle;\n",
       "    }\n",
       "\n",
       "    .dataframe tbody tr th {\n",
       "        vertical-align: top;\n",
       "    }\n",
       "\n",
       "    .dataframe thead th {\n",
       "        text-align: right;\n",
       "    }\n",
       "</style>\n",
       "<table border=\"1\" class=\"dataframe\">\n",
       "  <thead>\n",
       "    <tr style=\"text-align: right;\">\n",
       "      <th></th>\n",
       "      <th>artifact</th>\n",
       "      <th>person</th>\n",
       "      <th>animal</th>\n",
       "      <th>act</th>\n",
       "      <th>communication</th>\n",
       "      <th>substance</th>\n",
       "      <th>object</th>\n",
       "      <th>group</th>\n",
       "      <th>food</th>\n",
       "      <th>quantity</th>\n",
       "      <th>...</th>\n",
       "      <th>plant</th>\n",
       "      <th>possession</th>\n",
       "      <th>phenomenon</th>\n",
       "      <th>time</th>\n",
       "      <th>Tops</th>\n",
       "      <th>process</th>\n",
       "      <th>relation</th>\n",
       "      <th>feeling</th>\n",
       "      <th>motive</th>\n",
       "      <th>class_type</th>\n",
       "    </tr>\n",
       "  </thead>\n",
       "  <tbody>\n",
       "    <tr>\n",
       "      <th>count</th>\n",
       "      <td>684.000000</td>\n",
       "      <td>684.000000</td>\n",
       "      <td>684.000000</td>\n",
       "      <td>684.000000</td>\n",
       "      <td>684.000000</td>\n",
       "      <td>684.000000</td>\n",
       "      <td>684.000000</td>\n",
       "      <td>684.000000</td>\n",
       "      <td>684.000000</td>\n",
       "      <td>684.000000</td>\n",
       "      <td>...</td>\n",
       "      <td>684.000000</td>\n",
       "      <td>684.000000</td>\n",
       "      <td>684.000000</td>\n",
       "      <td>684.000000</td>\n",
       "      <td>684.000000</td>\n",
       "      <td>684.000000</td>\n",
       "      <td>684.000000</td>\n",
       "      <td>684.000000</td>\n",
       "      <td>684.000000</td>\n",
       "      <td>684.0</td>\n",
       "    </tr>\n",
       "    <tr>\n",
       "      <th>mean</th>\n",
       "      <td>0.861111</td>\n",
       "      <td>0.152047</td>\n",
       "      <td>0.052632</td>\n",
       "      <td>0.160819</td>\n",
       "      <td>0.133041</td>\n",
       "      <td>0.093567</td>\n",
       "      <td>0.089181</td>\n",
       "      <td>0.086257</td>\n",
       "      <td>0.032164</td>\n",
       "      <td>0.087719</td>\n",
       "      <td>...</td>\n",
       "      <td>0.029240</td>\n",
       "      <td>0.023392</td>\n",
       "      <td>0.020468</td>\n",
       "      <td>0.014620</td>\n",
       "      <td>0.005848</td>\n",
       "      <td>0.010234</td>\n",
       "      <td>0.008772</td>\n",
       "      <td>0.004386</td>\n",
       "      <td>0.001462</td>\n",
       "      <td>1.0</td>\n",
       "    </tr>\n",
       "    <tr>\n",
       "      <th>std</th>\n",
       "      <td>0.346084</td>\n",
       "      <td>0.359329</td>\n",
       "      <td>0.223460</td>\n",
       "      <td>0.367632</td>\n",
       "      <td>0.339868</td>\n",
       "      <td>0.291439</td>\n",
       "      <td>0.285214</td>\n",
       "      <td>0.280949</td>\n",
       "      <td>0.176564</td>\n",
       "      <td>0.283093</td>\n",
       "      <td>...</td>\n",
       "      <td>0.168601</td>\n",
       "      <td>0.151255</td>\n",
       "      <td>0.141698</td>\n",
       "      <td>0.120113</td>\n",
       "      <td>0.076304</td>\n",
       "      <td>0.100718</td>\n",
       "      <td>0.093315</td>\n",
       "      <td>0.066130</td>\n",
       "      <td>0.038236</td>\n",
       "      <td>0.0</td>\n",
       "    </tr>\n",
       "    <tr>\n",
       "      <th>min</th>\n",
       "      <td>0.000000</td>\n",
       "      <td>0.000000</td>\n",
       "      <td>0.000000</td>\n",
       "      <td>0.000000</td>\n",
       "      <td>0.000000</td>\n",
       "      <td>0.000000</td>\n",
       "      <td>0.000000</td>\n",
       "      <td>0.000000</td>\n",
       "      <td>0.000000</td>\n",
       "      <td>0.000000</td>\n",
       "      <td>...</td>\n",
       "      <td>0.000000</td>\n",
       "      <td>0.000000</td>\n",
       "      <td>0.000000</td>\n",
       "      <td>0.000000</td>\n",
       "      <td>0.000000</td>\n",
       "      <td>0.000000</td>\n",
       "      <td>0.000000</td>\n",
       "      <td>0.000000</td>\n",
       "      <td>0.000000</td>\n",
       "      <td>1.0</td>\n",
       "    </tr>\n",
       "    <tr>\n",
       "      <th>25%</th>\n",
       "      <td>1.000000</td>\n",
       "      <td>0.000000</td>\n",
       "      <td>0.000000</td>\n",
       "      <td>0.000000</td>\n",
       "      <td>0.000000</td>\n",
       "      <td>0.000000</td>\n",
       "      <td>0.000000</td>\n",
       "      <td>0.000000</td>\n",
       "      <td>0.000000</td>\n",
       "      <td>0.000000</td>\n",
       "      <td>...</td>\n",
       "      <td>0.000000</td>\n",
       "      <td>0.000000</td>\n",
       "      <td>0.000000</td>\n",
       "      <td>0.000000</td>\n",
       "      <td>0.000000</td>\n",
       "      <td>0.000000</td>\n",
       "      <td>0.000000</td>\n",
       "      <td>0.000000</td>\n",
       "      <td>0.000000</td>\n",
       "      <td>1.0</td>\n",
       "    </tr>\n",
       "    <tr>\n",
       "      <th>50%</th>\n",
       "      <td>1.000000</td>\n",
       "      <td>0.000000</td>\n",
       "      <td>0.000000</td>\n",
       "      <td>0.000000</td>\n",
       "      <td>0.000000</td>\n",
       "      <td>0.000000</td>\n",
       "      <td>0.000000</td>\n",
       "      <td>0.000000</td>\n",
       "      <td>0.000000</td>\n",
       "      <td>0.000000</td>\n",
       "      <td>...</td>\n",
       "      <td>0.000000</td>\n",
       "      <td>0.000000</td>\n",
       "      <td>0.000000</td>\n",
       "      <td>0.000000</td>\n",
       "      <td>0.000000</td>\n",
       "      <td>0.000000</td>\n",
       "      <td>0.000000</td>\n",
       "      <td>0.000000</td>\n",
       "      <td>0.000000</td>\n",
       "      <td>1.0</td>\n",
       "    </tr>\n",
       "    <tr>\n",
       "      <th>75%</th>\n",
       "      <td>1.000000</td>\n",
       "      <td>0.000000</td>\n",
       "      <td>0.000000</td>\n",
       "      <td>0.000000</td>\n",
       "      <td>0.000000</td>\n",
       "      <td>0.000000</td>\n",
       "      <td>0.000000</td>\n",
       "      <td>0.000000</td>\n",
       "      <td>0.000000</td>\n",
       "      <td>0.000000</td>\n",
       "      <td>...</td>\n",
       "      <td>0.000000</td>\n",
       "      <td>0.000000</td>\n",
       "      <td>0.000000</td>\n",
       "      <td>0.000000</td>\n",
       "      <td>0.000000</td>\n",
       "      <td>0.000000</td>\n",
       "      <td>0.000000</td>\n",
       "      <td>0.000000</td>\n",
       "      <td>0.000000</td>\n",
       "      <td>1.0</td>\n",
       "    </tr>\n",
       "    <tr>\n",
       "      <th>max</th>\n",
       "      <td>1.000000</td>\n",
       "      <td>1.000000</td>\n",
       "      <td>1.000000</td>\n",
       "      <td>1.000000</td>\n",
       "      <td>1.000000</td>\n",
       "      <td>1.000000</td>\n",
       "      <td>1.000000</td>\n",
       "      <td>1.000000</td>\n",
       "      <td>1.000000</td>\n",
       "      <td>1.000000</td>\n",
       "      <td>...</td>\n",
       "      <td>1.000000</td>\n",
       "      <td>1.000000</td>\n",
       "      <td>1.000000</td>\n",
       "      <td>1.000000</td>\n",
       "      <td>1.000000</td>\n",
       "      <td>1.000000</td>\n",
       "      <td>1.000000</td>\n",
       "      <td>1.000000</td>\n",
       "      <td>1.000000</td>\n",
       "      <td>1.0</td>\n",
       "    </tr>\n",
       "  </tbody>\n",
       "</table>\n",
       "<p>8 rows × 27 columns</p>\n",
       "</div>"
      ],
      "text/plain": [
       "         artifact      person      animal         act  communication  \\\n",
       "count  684.000000  684.000000  684.000000  684.000000     684.000000   \n",
       "mean     0.861111    0.152047    0.052632    0.160819       0.133041   \n",
       "std      0.346084    0.359329    0.223460    0.367632       0.339868   \n",
       "min      0.000000    0.000000    0.000000    0.000000       0.000000   \n",
       "25%      1.000000    0.000000    0.000000    0.000000       0.000000   \n",
       "50%      1.000000    0.000000    0.000000    0.000000       0.000000   \n",
       "75%      1.000000    0.000000    0.000000    0.000000       0.000000   \n",
       "max      1.000000    1.000000    1.000000    1.000000       1.000000   \n",
       "\n",
       "        substance      object       group        food    quantity  ...  \\\n",
       "count  684.000000  684.000000  684.000000  684.000000  684.000000  ...   \n",
       "mean     0.093567    0.089181    0.086257    0.032164    0.087719  ...   \n",
       "std      0.291439    0.285214    0.280949    0.176564    0.283093  ...   \n",
       "min      0.000000    0.000000    0.000000    0.000000    0.000000  ...   \n",
       "25%      0.000000    0.000000    0.000000    0.000000    0.000000  ...   \n",
       "50%      0.000000    0.000000    0.000000    0.000000    0.000000  ...   \n",
       "75%      0.000000    0.000000    0.000000    0.000000    0.000000  ...   \n",
       "max      1.000000    1.000000    1.000000    1.000000    1.000000  ...   \n",
       "\n",
       "            plant  possession  phenomenon        time        Tops     process  \\\n",
       "count  684.000000  684.000000  684.000000  684.000000  684.000000  684.000000   \n",
       "mean     0.029240    0.023392    0.020468    0.014620    0.005848    0.010234   \n",
       "std      0.168601    0.151255    0.141698    0.120113    0.076304    0.100718   \n",
       "min      0.000000    0.000000    0.000000    0.000000    0.000000    0.000000   \n",
       "25%      0.000000    0.000000    0.000000    0.000000    0.000000    0.000000   \n",
       "50%      0.000000    0.000000    0.000000    0.000000    0.000000    0.000000   \n",
       "75%      0.000000    0.000000    0.000000    0.000000    0.000000    0.000000   \n",
       "max      1.000000    1.000000    1.000000    1.000000    1.000000    1.000000   \n",
       "\n",
       "         relation     feeling      motive  class_type  \n",
       "count  684.000000  684.000000  684.000000       684.0  \n",
       "mean     0.008772    0.004386    0.001462         1.0  \n",
       "std      0.093315    0.066130    0.038236         0.0  \n",
       "min      0.000000    0.000000    0.000000         1.0  \n",
       "25%      0.000000    0.000000    0.000000         1.0  \n",
       "50%      0.000000    0.000000    0.000000         1.0  \n",
       "75%      0.000000    0.000000    0.000000         1.0  \n",
       "max      1.000000    1.000000    1.000000         1.0  \n",
       "\n",
       "[8 rows x 27 columns]"
      ]
     },
     "execution_count": 23,
     "metadata": {},
     "output_type": "execute_result"
    }
   ],
   "source": [
    "df_inanimates.describe()"
   ]
  },
  {
   "cell_type": "code",
   "execution_count": 24,
   "metadata": {},
   "outputs": [],
   "source": [
    "final_all = final_animates + final_inanimates\n",
    "random.shuffle(final_all)"
   ]
  },
  {
   "cell_type": "code",
   "execution_count": 25,
   "metadata": {},
   "outputs": [],
   "source": [
    "df_all = pd.DataFrame(\n",
    "    final_all,\n",
    "    columns=columns\n",
    ")"
   ]
  },
  {
   "cell_type": "code",
   "execution_count": 26,
   "metadata": {},
   "outputs": [
    {
     "data": {
      "text/html": [
       "<div>\n",
       "<style scoped>\n",
       "    .dataframe tbody tr th:only-of-type {\n",
       "        vertical-align: middle;\n",
       "    }\n",
       "\n",
       "    .dataframe tbody tr th {\n",
       "        vertical-align: top;\n",
       "    }\n",
       "\n",
       "    .dataframe thead th {\n",
       "        text-align: right;\n",
       "    }\n",
       "</style>\n",
       "<table border=\"1\" class=\"dataframe\">\n",
       "  <thead>\n",
       "    <tr style=\"text-align: right;\">\n",
       "      <th></th>\n",
       "      <th>word</th>\n",
       "      <th>artifact</th>\n",
       "      <th>person</th>\n",
       "      <th>animal</th>\n",
       "      <th>act</th>\n",
       "      <th>communication</th>\n",
       "      <th>substance</th>\n",
       "      <th>object</th>\n",
       "      <th>group</th>\n",
       "      <th>food</th>\n",
       "      <th>...</th>\n",
       "      <th>plant</th>\n",
       "      <th>possession</th>\n",
       "      <th>phenomenon</th>\n",
       "      <th>time</th>\n",
       "      <th>Tops</th>\n",
       "      <th>process</th>\n",
       "      <th>relation</th>\n",
       "      <th>feeling</th>\n",
       "      <th>motive</th>\n",
       "      <th>class_type</th>\n",
       "    </tr>\n",
       "  </thead>\n",
       "  <tbody>\n",
       "    <tr>\n",
       "      <th>0</th>\n",
       "      <td>Advertiser</td>\n",
       "      <td>0</td>\n",
       "      <td>1</td>\n",
       "      <td>0</td>\n",
       "      <td>0</td>\n",
       "      <td>0</td>\n",
       "      <td>0</td>\n",
       "      <td>0</td>\n",
       "      <td>0</td>\n",
       "      <td>0</td>\n",
       "      <td>...</td>\n",
       "      <td>0</td>\n",
       "      <td>0</td>\n",
       "      <td>0</td>\n",
       "      <td>0</td>\n",
       "      <td>0</td>\n",
       "      <td>0</td>\n",
       "      <td>0</td>\n",
       "      <td>0</td>\n",
       "      <td>0</td>\n",
       "      <td>0</td>\n",
       "    </tr>\n",
       "    <tr>\n",
       "      <th>1</th>\n",
       "      <td>gorilla</td>\n",
       "      <td>0</td>\n",
       "      <td>0</td>\n",
       "      <td>1</td>\n",
       "      <td>0</td>\n",
       "      <td>0</td>\n",
       "      <td>0</td>\n",
       "      <td>0</td>\n",
       "      <td>0</td>\n",
       "      <td>0</td>\n",
       "      <td>...</td>\n",
       "      <td>0</td>\n",
       "      <td>0</td>\n",
       "      <td>0</td>\n",
       "      <td>0</td>\n",
       "      <td>0</td>\n",
       "      <td>0</td>\n",
       "      <td>0</td>\n",
       "      <td>0</td>\n",
       "      <td>0</td>\n",
       "      <td>0</td>\n",
       "    </tr>\n",
       "    <tr>\n",
       "      <th>2</th>\n",
       "      <td>Whisk</td>\n",
       "      <td>1</td>\n",
       "      <td>0</td>\n",
       "      <td>0</td>\n",
       "      <td>0</td>\n",
       "      <td>0</td>\n",
       "      <td>0</td>\n",
       "      <td>0</td>\n",
       "      <td>0</td>\n",
       "      <td>0</td>\n",
       "      <td>...</td>\n",
       "      <td>0</td>\n",
       "      <td>0</td>\n",
       "      <td>0</td>\n",
       "      <td>0</td>\n",
       "      <td>0</td>\n",
       "      <td>0</td>\n",
       "      <td>0</td>\n",
       "      <td>0</td>\n",
       "      <td>0</td>\n",
       "      <td>1</td>\n",
       "    </tr>\n",
       "    <tr>\n",
       "      <th>3</th>\n",
       "      <td>T-shirt</td>\n",
       "      <td>1</td>\n",
       "      <td>0</td>\n",
       "      <td>0</td>\n",
       "      <td>0</td>\n",
       "      <td>0</td>\n",
       "      <td>0</td>\n",
       "      <td>0</td>\n",
       "      <td>0</td>\n",
       "      <td>0</td>\n",
       "      <td>...</td>\n",
       "      <td>0</td>\n",
       "      <td>0</td>\n",
       "      <td>0</td>\n",
       "      <td>0</td>\n",
       "      <td>0</td>\n",
       "      <td>0</td>\n",
       "      <td>0</td>\n",
       "      <td>0</td>\n",
       "      <td>0</td>\n",
       "      <td>1</td>\n",
       "    </tr>\n",
       "    <tr>\n",
       "      <th>4</th>\n",
       "      <td>Alarm</td>\n",
       "      <td>1</td>\n",
       "      <td>0</td>\n",
       "      <td>0</td>\n",
       "      <td>0</td>\n",
       "      <td>1</td>\n",
       "      <td>0</td>\n",
       "      <td>0</td>\n",
       "      <td>0</td>\n",
       "      <td>0</td>\n",
       "      <td>...</td>\n",
       "      <td>0</td>\n",
       "      <td>0</td>\n",
       "      <td>0</td>\n",
       "      <td>0</td>\n",
       "      <td>0</td>\n",
       "      <td>0</td>\n",
       "      <td>0</td>\n",
       "      <td>1</td>\n",
       "      <td>0</td>\n",
       "      <td>1</td>\n",
       "    </tr>\n",
       "    <tr>\n",
       "      <th>...</th>\n",
       "      <td>...</td>\n",
       "      <td>...</td>\n",
       "      <td>...</td>\n",
       "      <td>...</td>\n",
       "      <td>...</td>\n",
       "      <td>...</td>\n",
       "      <td>...</td>\n",
       "      <td>...</td>\n",
       "      <td>...</td>\n",
       "      <td>...</td>\n",
       "      <td>...</td>\n",
       "      <td>...</td>\n",
       "      <td>...</td>\n",
       "      <td>...</td>\n",
       "      <td>...</td>\n",
       "      <td>...</td>\n",
       "      <td>...</td>\n",
       "      <td>...</td>\n",
       "      <td>...</td>\n",
       "      <td>...</td>\n",
       "      <td>...</td>\n",
       "    </tr>\n",
       "    <tr>\n",
       "      <th>1363</th>\n",
       "      <td>dragon</td>\n",
       "      <td>0</td>\n",
       "      <td>1</td>\n",
       "      <td>1</td>\n",
       "      <td>0</td>\n",
       "      <td>0</td>\n",
       "      <td>0</td>\n",
       "      <td>1</td>\n",
       "      <td>0</td>\n",
       "      <td>0</td>\n",
       "      <td>...</td>\n",
       "      <td>0</td>\n",
       "      <td>0</td>\n",
       "      <td>0</td>\n",
       "      <td>0</td>\n",
       "      <td>0</td>\n",
       "      <td>0</td>\n",
       "      <td>0</td>\n",
       "      <td>0</td>\n",
       "      <td>0</td>\n",
       "      <td>0</td>\n",
       "    </tr>\n",
       "    <tr>\n",
       "      <th>1364</th>\n",
       "      <td>screen</td>\n",
       "      <td>1</td>\n",
       "      <td>0</td>\n",
       "      <td>0</td>\n",
       "      <td>0</td>\n",
       "      <td>0</td>\n",
       "      <td>0</td>\n",
       "      <td>0</td>\n",
       "      <td>1</td>\n",
       "      <td>0</td>\n",
       "      <td>...</td>\n",
       "      <td>0</td>\n",
       "      <td>0</td>\n",
       "      <td>0</td>\n",
       "      <td>0</td>\n",
       "      <td>0</td>\n",
       "      <td>0</td>\n",
       "      <td>0</td>\n",
       "      <td>0</td>\n",
       "      <td>0</td>\n",
       "      <td>1</td>\n",
       "    </tr>\n",
       "    <tr>\n",
       "      <th>1365</th>\n",
       "      <td>Filmmaker</td>\n",
       "      <td>0</td>\n",
       "      <td>1</td>\n",
       "      <td>0</td>\n",
       "      <td>0</td>\n",
       "      <td>0</td>\n",
       "      <td>0</td>\n",
       "      <td>0</td>\n",
       "      <td>0</td>\n",
       "      <td>0</td>\n",
       "      <td>...</td>\n",
       "      <td>0</td>\n",
       "      <td>0</td>\n",
       "      <td>0</td>\n",
       "      <td>0</td>\n",
       "      <td>0</td>\n",
       "      <td>0</td>\n",
       "      <td>0</td>\n",
       "      <td>0</td>\n",
       "      <td>0</td>\n",
       "      <td>0</td>\n",
       "    </tr>\n",
       "    <tr>\n",
       "      <th>1366</th>\n",
       "      <td>Mallet</td>\n",
       "      <td>1</td>\n",
       "      <td>0</td>\n",
       "      <td>0</td>\n",
       "      <td>0</td>\n",
       "      <td>0</td>\n",
       "      <td>0</td>\n",
       "      <td>0</td>\n",
       "      <td>0</td>\n",
       "      <td>0</td>\n",
       "      <td>...</td>\n",
       "      <td>0</td>\n",
       "      <td>0</td>\n",
       "      <td>0</td>\n",
       "      <td>0</td>\n",
       "      <td>0</td>\n",
       "      <td>0</td>\n",
       "      <td>0</td>\n",
       "      <td>0</td>\n",
       "      <td>0</td>\n",
       "      <td>1</td>\n",
       "    </tr>\n",
       "    <tr>\n",
       "      <th>1367</th>\n",
       "      <td>Engineer</td>\n",
       "      <td>0</td>\n",
       "      <td>1</td>\n",
       "      <td>0</td>\n",
       "      <td>0</td>\n",
       "      <td>0</td>\n",
       "      <td>0</td>\n",
       "      <td>0</td>\n",
       "      <td>0</td>\n",
       "      <td>0</td>\n",
       "      <td>...</td>\n",
       "      <td>0</td>\n",
       "      <td>0</td>\n",
       "      <td>0</td>\n",
       "      <td>0</td>\n",
       "      <td>0</td>\n",
       "      <td>0</td>\n",
       "      <td>0</td>\n",
       "      <td>0</td>\n",
       "      <td>0</td>\n",
       "      <td>0</td>\n",
       "    </tr>\n",
       "  </tbody>\n",
       "</table>\n",
       "<p>1368 rows × 28 columns</p>\n",
       "</div>"
      ],
      "text/plain": [
       "            word  artifact  person  animal  act  communication  substance  \\\n",
       "0     Advertiser         0       1       0    0              0          0   \n",
       "1        gorilla         0       0       1    0              0          0   \n",
       "2          Whisk         1       0       0    0              0          0   \n",
       "3        T-shirt         1       0       0    0              0          0   \n",
       "4          Alarm         1       0       0    0              1          0   \n",
       "...          ...       ...     ...     ...  ...            ...        ...   \n",
       "1363      dragon         0       1       1    0              0          0   \n",
       "1364      screen         1       0       0    0              0          0   \n",
       "1365   Filmmaker         0       1       0    0              0          0   \n",
       "1366      Mallet         1       0       0    0              0          0   \n",
       "1367    Engineer         0       1       0    0              0          0   \n",
       "\n",
       "      object  group  food  ...  plant  possession  phenomenon  time  Tops  \\\n",
       "0          0      0     0  ...      0           0           0     0     0   \n",
       "1          0      0     0  ...      0           0           0     0     0   \n",
       "2          0      0     0  ...      0           0           0     0     0   \n",
       "3          0      0     0  ...      0           0           0     0     0   \n",
       "4          0      0     0  ...      0           0           0     0     0   \n",
       "...      ...    ...   ...  ...    ...         ...         ...   ...   ...   \n",
       "1363       1      0     0  ...      0           0           0     0     0   \n",
       "1364       0      1     0  ...      0           0           0     0     0   \n",
       "1365       0      0     0  ...      0           0           0     0     0   \n",
       "1366       0      0     0  ...      0           0           0     0     0   \n",
       "1367       0      0     0  ...      0           0           0     0     0   \n",
       "\n",
       "      process  relation  feeling  motive  class_type  \n",
       "0           0         0        0       0           0  \n",
       "1           0         0        0       0           0  \n",
       "2           0         0        0       0           1  \n",
       "3           0         0        0       0           1  \n",
       "4           0         0        1       0           1  \n",
       "...       ...       ...      ...     ...         ...  \n",
       "1363        0         0        0       0           0  \n",
       "1364        0         0        0       0           1  \n",
       "1365        0         0        0       0           0  \n",
       "1366        0         0        0       0           1  \n",
       "1367        0         0        0       0           0  \n",
       "\n",
       "[1368 rows x 28 columns]"
      ]
     },
     "execution_count": 26,
     "metadata": {},
     "output_type": "execute_result"
    }
   ],
   "source": [
    "df_all"
   ]
  },
  {
   "cell_type": "code",
   "execution_count": 27,
   "metadata": {},
   "outputs": [
    {
     "data": {
      "text/html": [
       "<div>\n",
       "<style scoped>\n",
       "    .dataframe tbody tr th:only-of-type {\n",
       "        vertical-align: middle;\n",
       "    }\n",
       "\n",
       "    .dataframe tbody tr th {\n",
       "        vertical-align: top;\n",
       "    }\n",
       "\n",
       "    .dataframe thead th {\n",
       "        text-align: right;\n",
       "    }\n",
       "</style>\n",
       "<table border=\"1\" class=\"dataframe\">\n",
       "  <thead>\n",
       "    <tr style=\"text-align: right;\">\n",
       "      <th></th>\n",
       "      <th>artifact</th>\n",
       "      <th>person</th>\n",
       "      <th>animal</th>\n",
       "      <th>act</th>\n",
       "      <th>communication</th>\n",
       "      <th>substance</th>\n",
       "      <th>object</th>\n",
       "      <th>group</th>\n",
       "      <th>food</th>\n",
       "      <th>quantity</th>\n",
       "      <th>...</th>\n",
       "      <th>plant</th>\n",
       "      <th>possession</th>\n",
       "      <th>phenomenon</th>\n",
       "      <th>time</th>\n",
       "      <th>Tops</th>\n",
       "      <th>process</th>\n",
       "      <th>relation</th>\n",
       "      <th>feeling</th>\n",
       "      <th>motive</th>\n",
       "      <th>class_type</th>\n",
       "    </tr>\n",
       "  </thead>\n",
       "  <tbody>\n",
       "    <tr>\n",
       "      <th>count</th>\n",
       "      <td>1368.000000</td>\n",
       "      <td>1368.000000</td>\n",
       "      <td>1368.000000</td>\n",
       "      <td>1368.000000</td>\n",
       "      <td>1368.000000</td>\n",
       "      <td>1368.000000</td>\n",
       "      <td>1368.000000</td>\n",
       "      <td>1368.000000</td>\n",
       "      <td>1368.000000</td>\n",
       "      <td>1368.000000</td>\n",
       "      <td>...</td>\n",
       "      <td>1368.000000</td>\n",
       "      <td>1368.000000</td>\n",
       "      <td>1368.000000</td>\n",
       "      <td>1368.000000</td>\n",
       "      <td>1368.000000</td>\n",
       "      <td>1368.000000</td>\n",
       "      <td>1368.000000</td>\n",
       "      <td>1368.000000</td>\n",
       "      <td>1368.000000</td>\n",
       "      <td>1368.000000</td>\n",
       "    </tr>\n",
       "    <tr>\n",
       "      <th>mean</th>\n",
       "      <td>0.483918</td>\n",
       "      <td>0.398392</td>\n",
       "      <td>0.251462</td>\n",
       "      <td>0.096491</td>\n",
       "      <td>0.092105</td>\n",
       "      <td>0.064327</td>\n",
       "      <td>0.058480</td>\n",
       "      <td>0.052632</td>\n",
       "      <td>0.049708</td>\n",
       "      <td>0.048977</td>\n",
       "      <td>...</td>\n",
       "      <td>0.022661</td>\n",
       "      <td>0.013158</td>\n",
       "      <td>0.012427</td>\n",
       "      <td>0.008041</td>\n",
       "      <td>0.005848</td>\n",
       "      <td>0.005117</td>\n",
       "      <td>0.004386</td>\n",
       "      <td>0.003655</td>\n",
       "      <td>0.000731</td>\n",
       "      <td>0.500000</td>\n",
       "    </tr>\n",
       "    <tr>\n",
       "      <th>std</th>\n",
       "      <td>0.499924</td>\n",
       "      <td>0.489746</td>\n",
       "      <td>0.434012</td>\n",
       "      <td>0.295372</td>\n",
       "      <td>0.289280</td>\n",
       "      <td>0.245425</td>\n",
       "      <td>0.234734</td>\n",
       "      <td>0.223379</td>\n",
       "      <td>0.217420</td>\n",
       "      <td>0.215898</td>\n",
       "      <td>...</td>\n",
       "      <td>0.148874</td>\n",
       "      <td>0.113992</td>\n",
       "      <td>0.110822</td>\n",
       "      <td>0.089343</td>\n",
       "      <td>0.076276</td>\n",
       "      <td>0.071376</td>\n",
       "      <td>0.066105</td>\n",
       "      <td>0.060368</td>\n",
       "      <td>0.027037</td>\n",
       "      <td>0.500183</td>\n",
       "    </tr>\n",
       "    <tr>\n",
       "      <th>min</th>\n",
       "      <td>0.000000</td>\n",
       "      <td>0.000000</td>\n",
       "      <td>0.000000</td>\n",
       "      <td>0.000000</td>\n",
       "      <td>0.000000</td>\n",
       "      <td>0.000000</td>\n",
       "      <td>0.000000</td>\n",
       "      <td>0.000000</td>\n",
       "      <td>0.000000</td>\n",
       "      <td>0.000000</td>\n",
       "      <td>...</td>\n",
       "      <td>0.000000</td>\n",
       "      <td>0.000000</td>\n",
       "      <td>0.000000</td>\n",
       "      <td>0.000000</td>\n",
       "      <td>0.000000</td>\n",
       "      <td>0.000000</td>\n",
       "      <td>0.000000</td>\n",
       "      <td>0.000000</td>\n",
       "      <td>0.000000</td>\n",
       "      <td>0.000000</td>\n",
       "    </tr>\n",
       "    <tr>\n",
       "      <th>25%</th>\n",
       "      <td>0.000000</td>\n",
       "      <td>0.000000</td>\n",
       "      <td>0.000000</td>\n",
       "      <td>0.000000</td>\n",
       "      <td>0.000000</td>\n",
       "      <td>0.000000</td>\n",
       "      <td>0.000000</td>\n",
       "      <td>0.000000</td>\n",
       "      <td>0.000000</td>\n",
       "      <td>0.000000</td>\n",
       "      <td>...</td>\n",
       "      <td>0.000000</td>\n",
       "      <td>0.000000</td>\n",
       "      <td>0.000000</td>\n",
       "      <td>0.000000</td>\n",
       "      <td>0.000000</td>\n",
       "      <td>0.000000</td>\n",
       "      <td>0.000000</td>\n",
       "      <td>0.000000</td>\n",
       "      <td>0.000000</td>\n",
       "      <td>0.000000</td>\n",
       "    </tr>\n",
       "    <tr>\n",
       "      <th>50%</th>\n",
       "      <td>0.000000</td>\n",
       "      <td>0.000000</td>\n",
       "      <td>0.000000</td>\n",
       "      <td>0.000000</td>\n",
       "      <td>0.000000</td>\n",
       "      <td>0.000000</td>\n",
       "      <td>0.000000</td>\n",
       "      <td>0.000000</td>\n",
       "      <td>0.000000</td>\n",
       "      <td>0.000000</td>\n",
       "      <td>...</td>\n",
       "      <td>0.000000</td>\n",
       "      <td>0.000000</td>\n",
       "      <td>0.000000</td>\n",
       "      <td>0.000000</td>\n",
       "      <td>0.000000</td>\n",
       "      <td>0.000000</td>\n",
       "      <td>0.000000</td>\n",
       "      <td>0.000000</td>\n",
       "      <td>0.000000</td>\n",
       "      <td>0.500000</td>\n",
       "    </tr>\n",
       "    <tr>\n",
       "      <th>75%</th>\n",
       "      <td>1.000000</td>\n",
       "      <td>1.000000</td>\n",
       "      <td>1.000000</td>\n",
       "      <td>0.000000</td>\n",
       "      <td>0.000000</td>\n",
       "      <td>0.000000</td>\n",
       "      <td>0.000000</td>\n",
       "      <td>0.000000</td>\n",
       "      <td>0.000000</td>\n",
       "      <td>0.000000</td>\n",
       "      <td>...</td>\n",
       "      <td>0.000000</td>\n",
       "      <td>0.000000</td>\n",
       "      <td>0.000000</td>\n",
       "      <td>0.000000</td>\n",
       "      <td>0.000000</td>\n",
       "      <td>0.000000</td>\n",
       "      <td>0.000000</td>\n",
       "      <td>0.000000</td>\n",
       "      <td>0.000000</td>\n",
       "      <td>1.000000</td>\n",
       "    </tr>\n",
       "    <tr>\n",
       "      <th>max</th>\n",
       "      <td>1.000000</td>\n",
       "      <td>1.000000</td>\n",
       "      <td>1.000000</td>\n",
       "      <td>1.000000</td>\n",
       "      <td>1.000000</td>\n",
       "      <td>1.000000</td>\n",
       "      <td>1.000000</td>\n",
       "      <td>1.000000</td>\n",
       "      <td>1.000000</td>\n",
       "      <td>1.000000</td>\n",
       "      <td>...</td>\n",
       "      <td>1.000000</td>\n",
       "      <td>1.000000</td>\n",
       "      <td>1.000000</td>\n",
       "      <td>1.000000</td>\n",
       "      <td>1.000000</td>\n",
       "      <td>1.000000</td>\n",
       "      <td>1.000000</td>\n",
       "      <td>1.000000</td>\n",
       "      <td>1.000000</td>\n",
       "      <td>1.000000</td>\n",
       "    </tr>\n",
       "  </tbody>\n",
       "</table>\n",
       "<p>8 rows × 27 columns</p>\n",
       "</div>"
      ],
      "text/plain": [
       "          artifact       person       animal          act  communication  \\\n",
       "count  1368.000000  1368.000000  1368.000000  1368.000000    1368.000000   \n",
       "mean      0.483918     0.398392     0.251462     0.096491       0.092105   \n",
       "std       0.499924     0.489746     0.434012     0.295372       0.289280   \n",
       "min       0.000000     0.000000     0.000000     0.000000       0.000000   \n",
       "25%       0.000000     0.000000     0.000000     0.000000       0.000000   \n",
       "50%       0.000000     0.000000     0.000000     0.000000       0.000000   \n",
       "75%       1.000000     1.000000     1.000000     0.000000       0.000000   \n",
       "max       1.000000     1.000000     1.000000     1.000000       1.000000   \n",
       "\n",
       "         substance       object        group         food     quantity  ...  \\\n",
       "count  1368.000000  1368.000000  1368.000000  1368.000000  1368.000000  ...   \n",
       "mean      0.064327     0.058480     0.052632     0.049708     0.048977  ...   \n",
       "std       0.245425     0.234734     0.223379     0.217420     0.215898  ...   \n",
       "min       0.000000     0.000000     0.000000     0.000000     0.000000  ...   \n",
       "25%       0.000000     0.000000     0.000000     0.000000     0.000000  ...   \n",
       "50%       0.000000     0.000000     0.000000     0.000000     0.000000  ...   \n",
       "75%       0.000000     0.000000     0.000000     0.000000     0.000000  ...   \n",
       "max       1.000000     1.000000     1.000000     1.000000     1.000000  ...   \n",
       "\n",
       "             plant   possession   phenomenon         time         Tops  \\\n",
       "count  1368.000000  1368.000000  1368.000000  1368.000000  1368.000000   \n",
       "mean      0.022661     0.013158     0.012427     0.008041     0.005848   \n",
       "std       0.148874     0.113992     0.110822     0.089343     0.076276   \n",
       "min       0.000000     0.000000     0.000000     0.000000     0.000000   \n",
       "25%       0.000000     0.000000     0.000000     0.000000     0.000000   \n",
       "50%       0.000000     0.000000     0.000000     0.000000     0.000000   \n",
       "75%       0.000000     0.000000     0.000000     0.000000     0.000000   \n",
       "max       1.000000     1.000000     1.000000     1.000000     1.000000   \n",
       "\n",
       "           process     relation      feeling       motive   class_type  \n",
       "count  1368.000000  1368.000000  1368.000000  1368.000000  1368.000000  \n",
       "mean      0.005117     0.004386     0.003655     0.000731     0.500000  \n",
       "std       0.071376     0.066105     0.060368     0.027037     0.500183  \n",
       "min       0.000000     0.000000     0.000000     0.000000     0.000000  \n",
       "25%       0.000000     0.000000     0.000000     0.000000     0.000000  \n",
       "50%       0.000000     0.000000     0.000000     0.000000     0.500000  \n",
       "75%       0.000000     0.000000     0.000000     0.000000     1.000000  \n",
       "max       1.000000     1.000000     1.000000     1.000000     1.000000  \n",
       "\n",
       "[8 rows x 27 columns]"
      ]
     },
     "execution_count": 27,
     "metadata": {},
     "output_type": "execute_result"
    }
   ],
   "source": [
    "df_all.describe()"
   ]
  },
  {
   "cell_type": "code",
   "execution_count": 28,
   "metadata": {},
   "outputs": [],
   "source": [
    "df_animates.to_csv(\"personification/animates.csv\")\n",
    "df_inanimates.to_csv(\"personification/inanimates.csv\")\n",
    "df_all.to_csv(\"personification/all_animate_inanimate.csv\")"
   ]
  },
  {
   "attachments": {},
   "cell_type": "markdown",
   "metadata": {},
   "source": [
    "### Loading the dataset"
   ]
  },
  {
   "cell_type": "code",
   "execution_count": 29,
   "metadata": {},
   "outputs": [],
   "source": [
    "df = pd.read_csv(\"personification/all_animate_inanimate.csv\")"
   ]
  },
  {
   "attachments": {},
   "cell_type": "markdown",
   "metadata": {},
   "source": [
    "### Splitting the dataset into train and test data"
   ]
  },
  {
   "cell_type": "code",
   "execution_count": 30,
   "metadata": {},
   "outputs": [
    {
     "data": {
      "text/plain": [
       "Index(['artifact', 'person', 'animal', 'act', 'communication', 'substance',\n",
       "       'object', 'group', 'food', 'quantity', 'cognition', 'attribute', 'body',\n",
       "       'event', 'location', 'state', 'shape', 'plant', 'possession',\n",
       "       'phenomenon', 'time', 'Tops', 'process', 'relation', 'feeling',\n",
       "       'motive'],\n",
       "      dtype='object')"
      ]
     },
     "execution_count": 30,
     "metadata": {},
     "output_type": "execute_result"
    }
   ],
   "source": [
    "x = df.columns[2:-1]\n",
    "y = ['class_type']\n",
    "df_input_attributes = df[x]\n",
    "df_output_attribute = df[y]\n",
    "x"
   ]
  },
  {
   "cell_type": "code",
   "execution_count": 31,
   "metadata": {},
   "outputs": [
    {
     "data": {
      "text/plain": [
       "((957, 26), (957, 1), (411, 26), (411, 1))"
      ]
     },
     "execution_count": 31,
     "metadata": {},
     "output_type": "execute_result"
    }
   ],
   "source": [
    "x_train, x_test, y_train, y_test = train_test_split(\n",
    "    df_input_attributes,\n",
    "    df_output_attribute,\n",
    "    shuffle = True,\n",
    "    test_size = 0.3\n",
    ")\n",
    "x_train = x_train.values\n",
    "x_test = x_test.values\n",
    "y_train = y_train.values\n",
    "y_test = y_test.values\n",
    "x_train.shape, y_train.shape, x_test.shape, y_test.shape"
   ]
  },
  {
   "attachments": {},
   "cell_type": "markdown",
   "metadata": {},
   "source": [
    "### Declaring all models"
   ]
  },
  {
   "cell_type": "code",
   "execution_count": 32,
   "metadata": {},
   "outputs": [],
   "source": [
    "model_nn = Sequential()\n",
    "model_nn.add(Dense(26 * 16, input_shape = (len(x),), activation = 'relu'))\n",
    "model_nn.add(Dense(26 * 16, activation = 'relu'))\n",
    "model_nn.add(Dense(26 * 8, activation = 'relu'))\n",
    "model_nn.add(Dense(26 * 4, activation = 'relu'))\n",
    "# model_nn.add(Dropout(0.3))\n",
    "model_nn.add(Dense(26 * 2, activation = 'relu'))\n",
    "model_nn.add(Dense(26, activation = 'relu'))\n",
    "# model_nn.add(Dropout(0.4))\n",
    "model_nn.add(Dense(1, activation = 'sigmoid'))\n",
    "model_nn.compile(loss='binary_crossentropy', optimizer='adam', metrics=['accuracy'])"
   ]
  },
  {
   "cell_type": "code",
   "execution_count": 33,
   "metadata": {},
   "outputs": [],
   "source": [
    "all_models = {\n",
    "    # \"LinearRegression\": LinearRegression(fit_intercept=True, normalize=True, n_jobs=1, copy_X=True),\n",
    "    \"LogisticRegression\": LogisticRegression(),\n",
    "    \"DecisionTreeClassifier\": DecisionTreeClassifier(),\n",
    "    \"RandomForestClassifier\": RandomForestClassifier(),\n",
    "    \"SVC\": SVC(),\n",
    "    \"KNeighborsClassifier\": KNeighborsClassifier(),\n",
    "    \"LinearSVC\": LinearSVC(),\n",
    "    \"Sequential\": model_nn\n",
    "}"
   ]
  },
  {
   "attachments": {},
   "cell_type": "markdown",
   "metadata": {},
   "source": [
    "### Training the models"
   ]
  },
  {
   "cell_type": "code",
   "execution_count": 34,
   "metadata": {},
   "outputs": [
    {
     "name": "stdout",
     "output_type": "stream",
     "text": [
      "Training LogisticRegression()\n",
      "Training DecisionTreeClassifier()\n",
      "Training RandomForestClassifier()\n",
      "Training SVC()\n",
      "Training KNeighborsClassifier()\n",
      "Training LinearSVC()\n",
      "Epoch 1/6\n",
      "30/30 [==============================] - 2s 6ms/step - loss: 0.3300 - accuracy: 0.9060\n",
      "Epoch 2/6\n",
      "30/30 [==============================] - 0s 5ms/step - loss: 0.2347 - accuracy: 0.9342\n",
      "Epoch 3/6\n",
      "30/30 [==============================] - 0s 5ms/step - loss: 0.1862 - accuracy: 0.9300\n",
      "Epoch 4/6\n",
      "30/30 [==============================] - 0s 5ms/step - loss: 0.1838 - accuracy: 0.9363\n",
      "Epoch 5/6\n",
      "30/30 [==============================] - 0s 5ms/step - loss: 0.1540 - accuracy: 0.9457\n",
      "Epoch 6/6\n",
      "30/30 [==============================] - 0s 5ms/step - loss: 0.1353 - accuracy: 0.9488\n"
     ]
    }
   ],
   "source": [
    "trained_all = {\n",
    "\n",
    "}\n",
    "\n",
    "for model in all_models:\n",
    "    try:\n",
    "        if model == \"Sequential\":\n",
    "            trained_model = all_models[model]\n",
    "            history = trained_model.fit(x_train, y_train, epochs = 6)\n",
    "        else:\n",
    "            trained_model, history = train_model(all_models[model], x_train, y_train)\n",
    "        trained_all[model] = {\n",
    "            'model': trained_model,\n",
    "            'history': history,\n",
    "        }\n",
    "    except:\n",
    "        print(\"ERROR\")\n",
    "        print(traceback.format_exc())"
   ]
  },
  {
   "cell_type": "code",
   "execution_count": 35,
   "metadata": {},
   "outputs": [
    {
     "data": {
      "text/plain": [
       "[LogisticRegression(),\n",
       " DecisionTreeClassifier(),\n",
       " RandomForestClassifier(),\n",
       " SVC(),\n",
       " KNeighborsClassifier(),\n",
       " LinearSVC(),\n",
       " <keras.engine.sequential.Sequential at 0x2024f4b17f0>]"
      ]
     },
     "execution_count": 35,
     "metadata": {},
     "output_type": "execute_result"
    }
   ],
   "source": [
    "[model['model'] for model in trained_all.values()]"
   ]
  },
  {
   "cell_type": "code",
   "execution_count": 36,
   "metadata": {},
   "outputs": [
    {
     "name": "stdout",
     "output_type": "stream",
     "text": [
      "LogisticRegression()\n"
     ]
    },
    {
     "data": {
      "image/png": "[encoded data removed]",
      "text/plain": [
       "<Figure size 640x480 with 2 Axes>"
      ]
     },
     "metadata": {},
     "output_type": "display_data"
    },
    {
     "name": "stdout",
     "output_type": "stream",
     "text": [
      "LogisticRegression            : 0.9294403892944039\n",
      "DecisionTreeClassifier()\n"
     ]
    },
    {
     "data": {
      "image/png": "[encoded data removed]",
      "text/plain": [
       "<Figure size 640x480 with 2 Axes>"
      ]
     },
     "metadata": {},
     "output_type": "display_data"
    },
    {
     "name": "stdout",
     "output_type": "stream",
     "text": [
      "DecisionTreeClassifier        : 0.9172749391727494\n",
      "RandomForestClassifier()\n"
     ]
    },
    {
     "data": {
      "image/png": "[encoded data removed]",
      "text/plain": [
       "<Figure size 640x480 with 2 Axes>"
      ]
     },
     "metadata": {},
     "output_type": "display_data"
    },
    {
     "name": "stdout",
     "output_type": "stream",
     "text": [
      "RandomForestClassifier        : 0.9294403892944039\n",
      "SVC()\n"
     ]
    },
    {
     "data": {
      "image/png": "[encoded data removed]",
      "text/plain": [
       "<Figure size 640x480 with 2 Axes>"
      ]
     },
     "metadata": {},
     "output_type": "display_data"
    },
    {
     "name": "stdout",
     "output_type": "stream",
     "text": [
      "SVC                           : 0.9318734793187348\n",
      "KNeighborsClassifier()\n"
     ]
    },
    {
     "data": {
      "image/png": "[encoded data removed]",
      "text/plain": [
       "<Figure size 640x480 with 2 Axes>"
      ]
     },
     "metadata": {},
     "output_type": "display_data"
    },
    {
     "name": "stdout",
     "output_type": "stream",
     "text": [
      "KNeighborsClassifier          : 0.927007299270073\n",
      "LinearSVC()\n"
     ]
    },
    {
     "data": {
      "image/png": "[encoded data removed]",
      "text/plain": [
       "<Figure size 640x480 with 2 Axes>"
      ]
     },
     "metadata": {},
     "output_type": "display_data"
    },
    {
     "name": "stdout",
     "output_type": "stream",
     "text": [
      "LinearSVC                     : 0.9221411192214112\n",
      "<keras.engine.sequential.Sequential object at 0x000002024F4B17F0>\n",
      "13/13 [==============================] - 0s 2ms/step\n"
     ]
    },
    {
     "data": {
      "image/png": "[encoded data removed]",
      "text/plain": [
       "<Figure size 640x480 with 2 Axes>"
      ]
     },
     "metadata": {},
     "output_type": "display_data"
    },
    {
     "name": "stdout",
     "output_type": "stream",
     "text": [
      "Sequential                    : 0.927007299270073\n",
      "13/13 [==============================] - 0s 2ms/step\n",
      "Ensemble - Mix of all models - 0.9343065693430657\n"
     ]
    },
    {
     "data": {
      "image/png": "[encoded data removed]",
      "text/plain": [
       "<Figure size 640x480 with 2 Axes>"
      ]
     },
     "metadata": {},
     "output_type": "display_data"
    }
   ],
   "source": [
    "for model in trained_all:\n",
    "    predictions, accuracy = calc_accuracy(trained_all[model]['model'], x_test, y_test, show_confusion_matrix = True)\n",
    "    print(f\"{model:30s}: {accuracy}\")\n",
    "\n",
    "predictor = ensemble_classification_predictor([model['model'] for model in trained_all.values()])\n",
    "predictions = predictor.predict(x_test)\n",
    "actual = np.array(y_test).flatten()\n",
    "predictions = np.array(predictions).flatten()\n",
    "results = predictions == actual\n",
    "count_right = list(results).count(True)\n",
    "print(f\"Ensemble - Mix of all models - {count_right/len(predictions)}\")\n",
    "plot_confusion_matrix(\"Ensemble - Mix of all models\", predictions, y_test)\n",
    "    "
   ]
  },
  {
   "cell_type": "code",
   "execution_count": 37,
   "metadata": {},
   "outputs": [
    {
     "name": "stdout",
     "output_type": "stream",
     "text": [
      "INFO:tensorflow:Assets written to: personification/save_inanimate_models/Sequential\\assets\n"
     ]
    }
   ],
   "source": [
    "model_files = []\n",
    "for model in trained_all:\n",
    "    if model != \"Sequential\":\n",
    "        pickle.dump(trained_all[model]['model'], open(f\"{inanimate_models_dir}/{model}.pickle\", \"wb\"))\n",
    "        model_files.append(model)\n",
    "trained_all['Sequential']['model'].save(f\"{inanimate_models_dir}/Sequential\")"
   ]
  },
  {
   "cell_type": "code",
   "execution_count": 38,
   "metadata": {},
   "outputs": [],
   "source": [
    "inanimate_models = {model: pickle.load(open(f\"{inanimate_models_dir}/{model}.pickle\", \"rb\")) for model in [fname.replace('.pickle', '') for fname in os.listdir(inanimate_models_dir) if os.path.isfile(os.path.join(inanimate_models_dir, fname))]}\n",
    "inanimate_models['Sequential'] = keras.models.load_model(f\"{inanimate_models_dir}/Sequential\")"
   ]
  },
  {
   "cell_type": "code",
   "execution_count": 39,
   "metadata": {},
   "outputs": [],
   "source": [
    "class personification_functions:\n",
    "\n",
    "    def __init__(self, nlp = spacy.load(\"en_core_web_sm\"), models_dir = inanimate_models_dir):\n",
    "        self.nlp = nlp\n",
    "        self.pos_tagger = _get_tagger('eng')\n",
    "        self.inanimate_chance_by_type = {\n",
    "            'person': 0.20, 'animal': 0.25, 'group': 0.4, \n",
    "            'communication': 0.5, 'act': 0.45, 'time': 0.45, \n",
    "            'state': 0.4, 'relation': 0.4, 'location': 0.35,\n",
    "            'food': 0.5, 'plant': 0.3, 'phenomenon': 0.4, \n",
    "            'substance': 0.5, 'attribute': 0.45, 'event': 0.3, \n",
    "            'cognition': 0.45, 'possession': 0.45, 'artifact': 1, \n",
    "            'quantity': 0.45, 'feeling': 0.3, 'object': 1, \n",
    "            'Tops': 0.60, 'body': 0.3, 'motive': 0.33,\n",
    "            'process': 0.33, 'shape': 0.4,\n",
    "        }\n",
    "\n",
    "        # don't change the order. model is trained to predict in this order.\n",
    "        self.inanimate_vector_order = [\n",
    "            \"artifact\", \"person\", \"animal\", \"act\", \n",
    "            \"communication\", \"substance\", \"object\", \n",
    "            \"group\", \"food\", \"quantity\", \"cognition\", \n",
    "            \"attribute\", \"body\", \"event\", \"location\", \n",
    "            \"state\", \"shape\", \"plant\", \"possession\", \n",
    "            \"phenomenon\", \"time\", \"Tops\", \"process\", \n",
    "            \"relation\", \"feeling\", \"motive\"\n",
    "            ]\n",
    "        \n",
    "        self.inanimate_models = {model: pickle.load(open(f\"{models_dir}/{model}.pickle\", \"rb\")) for model in [fname.replace('.pickle', '') for fname in os.listdir(models_dir) if os.path.isfile(os.path.join(models_dir, fname))]}\n",
    "        self.inanimate_models['Sequential'] = keras.models.load_model(f\"{models_dir}/Sequential\")\n",
    "    \n",
    "    def get_pairs(self, lines):\n",
    "        '''\n",
    "        Legacy function\n",
    "        \n",
    "        Same as `extract_pairs` but not efficient\n",
    "        '''\n",
    "        pipe = nlp.pipe(lines)\n",
    "        store = []\n",
    "        for doc in pipe:\n",
    "            temp_store = []\n",
    "            tokens = []\n",
    "            for token in doc:\n",
    "                tokens.append(token.text)\n",
    "                if token.dep_ == \"nsubj\" and token.pos_ in ['NOUN', 'PNOUN'] and token.head.pos_ == \"VERB\":\n",
    "                    content = {\"noun\": token, \"verb\": token.head}\n",
    "                    temp_store.append(content)\n",
    "                \n",
    "            store.append(temp_store)\n",
    "        return store\n",
    "\n",
    "    def extract_pairs(self, sentences):\n",
    "        '''\n",
    "        Function to extract the noun - verb pairs from list of sentences\n",
    "\n",
    "        Uses multiple rules to obtain personifications\n",
    "        '''\n",
    "        if type(sentences) == str:\n",
    "            sentences = [sentences]\n",
    "        sentences_nlp = self.nlp.pipe(sentences)\n",
    "        pairs = [self._extract_pair_from_sentence(sentence) for sentence in tqdm.tqdm(sentences_nlp, total = len(sentences))]\n",
    "        return pairs\n",
    "        \n",
    "    def get_pos_tag(self, word):\n",
    "        '''\n",
    "        Returns pos tag of the word - uses nltk\n",
    "        '''\n",
    "        return _pos_tag([word], None, self.pos_tagger, \"eng\")\n",
    "    \n",
    "    def extract_pairs_(self, sentences):\n",
    "        '''\n",
    "        Function to extract the noun - verb pairs from list of sentences\n",
    "        '''\n",
    "        if type(sentences) == str:\n",
    "            sentences = [sentences]\n",
    "        sentences_nlp = self.nlp.pipe(sentences)\n",
    "        # pairs = [self._extract_pair_from_sentence(sentence) for sentence in sentences_nlp]\n",
    "        pairs = [self.get_pairs(sentence) for sentence in sentences_nlp]\n",
    "        return pairs\n",
    "\n",
    "    def _extract_pair_from_sentence(self, doc): # doc is result from spacy\n",
    "        '''\n",
    "        Function to extract noun-verb pairs from single sentence\n",
    "\n",
    "        Function size is too big so it's moved to separate file.\n",
    "        '''\n",
    "        return extract_pair_from_sentence(doc)\n",
    "    \n",
    "    def _get_lextypes(self, word, noun_only = True):\n",
    "        '''\n",
    "        Function to get the different types of the word\n",
    "        \n",
    "        Gives noun types only by default\n",
    "        '''\n",
    "        synsets = wn.synsets(str(word))\n",
    "        lextypes = []\n",
    "        if noun_only:\n",
    "            for synset in synsets:\n",
    "                lexname = synset.lexname()\n",
    "                pos, word_type = lexname.split(\".\")\n",
    "                if pos == 'noun':\n",
    "                    lextypes.append(word_type)\n",
    "        else:\n",
    "            for synset in synsets:\n",
    "                lexname = synset.lexname()\n",
    "                pos, word_type = lexname.split(\".\")\n",
    "                lextypes.append(word_type)\n",
    "        return set(lextypes)\n",
    "\n",
    "    def _is_inanimate_rules(self, words):\n",
    "        words = [word.lower() for word in words]\n",
    "        words_lextypes = [\n",
    "            self._get_lextypes(word)\n",
    "                for word in words\n",
    "        ]\n",
    "        words_probs = [\n",
    "            [self.inanimate_chance_by_type[lextype] for lextype in lextypes]\n",
    "                for lextypes in words_lextypes\n",
    "        ]\n",
    "        words_final_prob = [\n",
    "            sum(probs) / (len(probs) if probs else 1)\n",
    "                for probs in words_probs\n",
    "        ]\n",
    "\n",
    "        words_final_is_inanimate = [\n",
    "            True if final_prob > 0.5 else False\n",
    "                for final_prob in words_final_prob\n",
    "        ]\n",
    "        return words_final_is_inanimate\n",
    "    \n",
    "    def _animate_inanimate_word_vector_string(self, word):\n",
    "            word_types = set(self._get_lextypes(word))\n",
    "            model_input_string = [\n",
    "                1 if ltype in word_types else 0\n",
    "                    for ltype in self.inanimate_vector_order\n",
    "                ]\n",
    "            return model_input_string\n",
    "        \n",
    "    def _animate_inanimate_word_vector(self, words):\n",
    "        \n",
    "        model_input = [\n",
    "            self._animate_inanimate_word_vector_string(word)\n",
    "                for word in words\n",
    "            ]\n",
    "        df = pd.DataFrame(model_input, columns = self.inanimate_vector_order)\n",
    "        return df\n",
    "\n",
    "    def is_inanimate_(self, words, eval_type = \"model\"):\n",
    "        if type(words) != list and type(words) != tuple:\n",
    "            words = [words]\n",
    "        print(words)\n",
    "        if eval_type == \"model\":\n",
    "            return self._is_inanimate_model(words)\n",
    "        else:\n",
    "            return self._is_inanimate_rules(words)\n",
    "    \n",
    "    def predict_ensemble(self, predictions):\n",
    "        true_count = 0\n",
    "        for prediction in predictions:\n",
    "            if prediction:\n",
    "                true_count += 1\n",
    "        if (true_count/len(predictions)) > 0.5:\n",
    "            return True\n",
    "        else:\n",
    "            return False\n",
    "        \n",
    "    def fix_predictions(self, predictions):\n",
    "        '''\n",
    "        if values are in range 0 to 1 - shifts to True or False\n",
    "        '''\n",
    "        predictions = np.array(predictions)\n",
    "        fixer = np.vectorize(lambda num: True if (num == True or num > 0.5) else False)\n",
    "        predictions = fixer(predictions)\n",
    "        return predictions\n",
    "\n",
    "    def is_inanimate(self, words):\n",
    "        '''\n",
    "        Function - returns if given words are inanimate or not\n",
    "        '''\n",
    "        if type(words) != list and type(words) != tuple:\n",
    "            words = [words]\n",
    "        word_vectors = self._animate_inanimate_word_vector(words)\n",
    "        predictions = []\n",
    "        for model in self.inanimate_models:\n",
    "            predictions.append(self.inanimate_models[model].predict(word_vectors))\n",
    "        for num in range(len(predictions)):\n",
    "            predictions[num] = self.fix_predictions(predictions[num])\n",
    "        predictions_from_models = []\n",
    "        for num in range(len(predictions[0])):\n",
    "            predictions_from_models.append([arr[num] for arr in predictions])\n",
    "        predictions_final = [\n",
    "            self.predict_ensemble(row) for row in predictions_from_models\n",
    "        ]\n",
    "        return predictions_final\n",
    "        \n",
    "        \n",
    "    def get_personifications(self, sentences):\n",
    "        '''\n",
    "        Identifies Personifications in sentences\n",
    "        and returns array of arrays containing words\n",
    "        which can be used to display content to user. \n",
    "        '''\n",
    "        # sentences_pairs = self.extract_pairs(sentences)\n",
    "        store_model_inputs = []\n",
    "        sentences_pairs = self.get_pairs(sentences)\n",
    "        for sent_pairs in sentences_pairs:\n",
    "            for tple in sent_pairs:\n",
    "                store_model_inputs.append(tple['noun'] if type(tple) == dict else tple[0])\n",
    "                # tple, self.is_inanimate(tple['noun']) if type(tple) == dict else self._is_sent_inanimate(tple[0])\n",
    "        store_model_outputs = self.is_inanimate(store_model_inputs)\n",
    "        store_model_outputs = dict(zip(store_model_inputs, store_model_outputs))\n",
    "        # sentences_inanimate_pairs = [\n",
    "        #     [\n",
    "        #         [\n",
    "        #             tple, self.is_inanimate(tple['noun']) if type(tple) == dict else self._is_sent_inanimate(tple[0])\n",
    "        #         ] \n",
    "        #             for tple in sent_pairs\n",
    "        #     ]\n",
    "        #         for sent_pairs in sentences_pairs\n",
    "        # ]\n",
    "\n",
    "        sentences_inanimate_pairs = [\n",
    "            [\n",
    "                [\n",
    "                    tple, store_model_outputs[tple['noun']] if type(tple) == dict else store_model_outputs[tple[0]]\n",
    "                ] \n",
    "                    for tple in sent_pairs\n",
    "            ]\n",
    "                for sent_pairs in sentences_pairs\n",
    "        ]\n",
    "\n",
    "        \n",
    "        return sentences_inanimate_pairs\n",
    "\n",
    "    \n",
    "personification = personification_functions(nlp)"
   ]
  },
  {
   "attachments": {},
   "cell_type": "markdown",
   "metadata": {},
   "source": [
    "## 2. Training model to identify noun - verb pairs which can be part of personification"
   ]
  },
  {
   "cell_type": "code",
   "execution_count": 40,
   "metadata": {},
   "outputs": [
    {
     "data": {
      "text/plain": [
       "(1592, 1592, 3184)"
      ]
     },
     "execution_count": 40,
     "metadata": {},
     "output_type": "execute_result"
    }
   ],
   "source": [
    "df_p = pd.DataFrame([line.strip() for line in open(\"personification/p.txt\").readlines()], columns = ['sentences'])\n",
    "df_p['labels'] = [1 for _ in range(df_p.size)]\n",
    "\n",
    "df_np = pd.DataFrame([line.strip() for line in open(\"personification/np.txt\").readlines()], columns = ['sentences'])\n",
    "df_np['labels'] = [0 for _ in range(df_np.size)]\n",
    "\n",
    "min_size = min(len(df_p), len(df_np))\n",
    "\n",
    "df_p = df_p.sample(min_size)\n",
    "df_np = df_np.sample(min_size)\n",
    "\n",
    "df = pd.concat([df_p, df_np])\n",
    "\n",
    "df_p.size, df_np.size, df.size"
   ]
  },
  {
   "cell_type": "code",
   "execution_count": 41,
   "metadata": {},
   "outputs": [],
   "source": [
    "X = df['sentences'].values\n",
    "Y = df['labels'].values"
   ]
  },
  {
   "cell_type": "code",
   "execution_count": 42,
   "metadata": {},
   "outputs": [
    {
     "name": "stderr",
     "output_type": "stream",
     "text": [
      "100%|██████████| 1592/1592 [00:02<00:00, 620.07it/s]\n"
     ]
    }
   ],
   "source": [
    "X_pairs = list(personification.extract_pairs(X))"
   ]
  },
  {
   "cell_type": "code",
   "execution_count": 43,
   "metadata": {},
   "outputs": [
    {
     "data": {
      "text/plain": [
       "{'communication'}"
      ]
     },
     "execution_count": 43,
     "metadata": {},
     "output_type": "execute_result"
    }
   ],
   "source": [
    "get_word_types('hello', noun_only=False)"
   ]
  },
  {
   "cell_type": "code",
   "execution_count": 44,
   "metadata": {},
   "outputs": [],
   "source": [
    "type = __builtins__.type"
   ]
  },
  {
   "cell_type": "code",
   "execution_count": 45,
   "metadata": {},
   "outputs": [],
   "source": [
    "vtypes = {}\n",
    "for pairs in X_pairs:\n",
    "    for pair in pairs:\n",
    "        for type_ in get_word_types(pair[1], noun_only=False):\n",
    "            if type_ in vtypes:\n",
    "                vtypes[type_] += 1\n",
    "            else:\n",
    "                vtypes[type_] = 1"
   ]
  },
  {
   "cell_type": "code",
   "execution_count": 46,
   "metadata": {},
   "outputs": [
    {
     "name": "stdout",
     "output_type": "stream",
     "text": [
      "[('motion', 554), ('contact', 531), ('communication', 501), ('stative', 408), ('change', 395), ('perception', 351), ('social', 342), ('body', 333), ('all', 327), ('creation', 286), ('possession', 273), ('competition', 183), ('cognition', 172), ('act', 116), ('consumption', 105), ('weather', 95), ('emotion', 95), ('artifact', 73), ('ppl', 46), ('plant', 37), ('attribute', 34), ('group', 32), ('location', 27), ('shape', 22), ('state', 20), ('event', 20), ('substance', 20), ('process', 13), ('person', 12), ('time', 12), ('food', 8), ('feeling', 7), ('object', 4), ('quantity', 3), ('phenomenon', 3), ('animal', 2), ('pert', 2), ('relation', 1), ('Tops', 1)]\n",
      "['motion', 'contact', 'communication', 'stative', 'change', 'perception', 'social', 'body', 'all', 'creation', 'possession', 'competition', 'cognition', 'act', 'consumption', 'weather', 'emotion', 'artifact', 'ppl', 'plant', 'attribute', 'group', 'location', 'shape', 'state', 'event', 'substance', 'process', 'person', 'time', 'food', 'feeling', 'object', 'quantity', 'phenomenon', 'animal', 'pert', 'relation', 'Tops']\n"
     ]
    }
   ],
   "source": [
    "tps = list(vtypes.keys())\n",
    "tps.sort(key = lambda wrd: vtypes[wrd], reverse = True)\n",
    "word_vector_types_order = tps\n",
    "print([(wrd, vtypes[wrd]) for wrd in word_vector_types_order])\n",
    "print(word_vector_types_order)"
   ]
  },
  {
   "cell_type": "code",
   "execution_count": 47,
   "metadata": {},
   "outputs": [],
   "source": [
    "noun_vector_order = [\n",
    "    \"artifact\", \"person\", \"animal\", \"act\", \n",
    "    \"communication\", \"substance\", \"object\", \n",
    "    \"group\", \"food\", \"quantity\", \"cognition\", \n",
    "    \"attribute\", \"body\", \"event\", \"location\", \n",
    "    \"state\", \"shape\", \"plant\", \"possession\", \n",
    "    \"phenomenon\", \"time\", \"Tops\", \"process\", \n",
    "    \"relation\", \"feeling\", \"motive\"\n",
    "]\n",
    "\n",
    "verb_vector_order = [\n",
    "    'motion', 'contact', 'communication', \n",
    "    'stative', 'change', 'perception', \n",
    "    'social', 'body', 'all', 'creation', \n",
    "    'possession', 'competition', 'cognition', \n",
    "    'act', 'consumption', 'emotion', 'weather', \n",
    "    'artifact', 'ppl', 'plant', 'attribute', \n",
    "    'group', 'event', 'location', 'shape', 'substance'\n",
    "]\n",
    "\n",
    "\n",
    "def get_noun_vector_string(noun):\n",
    "    noun_types = set(get_word_types(noun))\n",
    "    resultant_vector = [\n",
    "        1 if ltype in noun_types else 0\n",
    "            for ltype in noun_vector_order\n",
    "        ]\n",
    "    return resultant_vector\n",
    "\n",
    "def get_verb_vector_string(verb):\n",
    "    verb_types = set(get_word_types(verb, False))\n",
    "    resultant_vector = [\n",
    "        1 if ltype in verb_types else 0\n",
    "            for ltype in verb_vector_order\n",
    "        ]\n",
    "    return resultant_vector\n",
    "\n",
    "def get_nv_pair(tup):\n",
    "    sent = str(tup[0])\n",
    "    doc = nlp(sent)\n",
    "    start = tup[0].i\n",
    "    end = start + len(doc)\n",
    "    verb = tup[1].i\n",
    "    head_token = []\n",
    "    for token in doc:\n",
    "        if token.head == token:\n",
    "            head_token.append(token)\n",
    "    head_token = head_token[0]\n",
    "    # print(tup, str(head_token), str(tup[1]))\n",
    "    nvs = get_noun_vector_string(str(head_token))\n",
    "    vvs = get_verb_vector_string(str(tup[1]))\n",
    "    return str(head_token), str(tup[1]), nvs, vvs"
   ]
  },
  {
   "cell_type": "code",
   "execution_count": 48,
   "metadata": {},
   "outputs": [
    {
     "name": "stderr",
     "output_type": "stream",
     "text": [
      "100%|██████████| 1592/1592 [00:04<00:00, 353.95it/s]\n"
     ]
    }
   ],
   "source": [
    "count = 0\n",
    "store_nv_vectors = []\n",
    "vtypes = {}\n",
    "for i, pairs in tqdm.tqdm(enumerate(X_pairs), total = len(X_pairs)):\n",
    "    stemp = []\n",
    "    for pair in pairs:\n",
    "        noun, verb, nv, vv = get_nv_pair(pair)\n",
    "        stemp.append((pair, noun, verb, nv, vv))\n",
    "    store_nv_vectors.append(stemp[0:1])"
   ]
  },
  {
   "cell_type": "code",
   "execution_count": 49,
   "metadata": {},
   "outputs": [],
   "source": [
    "len_nv = 26\n",
    "len_vv = 26\n",
    "store_final = []\n",
    "columns = ['noun', 'verb', 'type'] + [f'x{n}' for n in range(len_nv)] +  [f'y{n}' for n in range(len_vv)]\n",
    "for i, line in enumerate(store_nv_vectors):\n",
    "    if len(line) > 0:\n",
    "        final_row = list(line[0][1:3]) + [Y[i]] + line[0][3][:len_nv] + line[0][4][:len_vv]\n",
    "        store_final.append(final_row)"
   ]
  },
  {
   "cell_type": "code",
   "execution_count": 50,
   "metadata": {},
   "outputs": [
    {
     "data": {
      "text/plain": [
       "55"
      ]
     },
     "execution_count": 50,
     "metadata": {},
     "output_type": "execute_result"
    }
   ],
   "source": [
    "len(store_final[0])"
   ]
  },
  {
   "cell_type": "code",
   "execution_count": 51,
   "metadata": {},
   "outputs": [
    {
     "data": {
      "text/plain": [
       "55"
      ]
     },
     "execution_count": 51,
     "metadata": {},
     "output_type": "execute_result"
    }
   ],
   "source": [
    "len(columns)"
   ]
  },
  {
   "cell_type": "code",
   "execution_count": 52,
   "metadata": {},
   "outputs": [
    {
     "data": {
      "text/html": [
       "<div>\n",
       "<style scoped>\n",
       "    .dataframe tbody tr th:only-of-type {\n",
       "        vertical-align: middle;\n",
       "    }\n",
       "\n",
       "    .dataframe tbody tr th {\n",
       "        vertical-align: top;\n",
       "    }\n",
       "\n",
       "    .dataframe thead th {\n",
       "        text-align: right;\n",
       "    }\n",
       "</style>\n",
       "<table border=\"1\" class=\"dataframe\">\n",
       "  <thead>\n",
       "    <tr style=\"text-align: right;\">\n",
       "      <th></th>\n",
       "      <th>noun</th>\n",
       "      <th>verb</th>\n",
       "      <th>type</th>\n",
       "      <th>x0</th>\n",
       "      <th>x1</th>\n",
       "      <th>x2</th>\n",
       "      <th>x3</th>\n",
       "      <th>x4</th>\n",
       "      <th>x5</th>\n",
       "      <th>x6</th>\n",
       "      <th>...</th>\n",
       "      <th>y16</th>\n",
       "      <th>y17</th>\n",
       "      <th>y18</th>\n",
       "      <th>y19</th>\n",
       "      <th>y20</th>\n",
       "      <th>y21</th>\n",
       "      <th>y22</th>\n",
       "      <th>y23</th>\n",
       "      <th>y24</th>\n",
       "      <th>y25</th>\n",
       "    </tr>\n",
       "  </thead>\n",
       "  <tbody>\n",
       "    <tr>\n",
       "      <th>0</th>\n",
       "      <td>stars</td>\n",
       "      <td>whispered</td>\n",
       "      <td>1</td>\n",
       "      <td>0</td>\n",
       "      <td>1</td>\n",
       "      <td>0</td>\n",
       "      <td>0</td>\n",
       "      <td>1</td>\n",
       "      <td>0</td>\n",
       "      <td>1</td>\n",
       "      <td>...</td>\n",
       "      <td>0</td>\n",
       "      <td>0</td>\n",
       "      <td>0</td>\n",
       "      <td>0</td>\n",
       "      <td>0</td>\n",
       "      <td>0</td>\n",
       "      <td>0</td>\n",
       "      <td>0</td>\n",
       "      <td>0</td>\n",
       "      <td>0</td>\n",
       "    </tr>\n",
       "    <tr>\n",
       "      <th>1</th>\n",
       "      <td>leaves</td>\n",
       "      <td>fluttered</td>\n",
       "      <td>1</td>\n",
       "      <td>1</td>\n",
       "      <td>0</td>\n",
       "      <td>0</td>\n",
       "      <td>1</td>\n",
       "      <td>1</td>\n",
       "      <td>0</td>\n",
       "      <td>0</td>\n",
       "      <td>...</td>\n",
       "      <td>0</td>\n",
       "      <td>0</td>\n",
       "      <td>0</td>\n",
       "      <td>0</td>\n",
       "      <td>0</td>\n",
       "      <td>0</td>\n",
       "      <td>0</td>\n",
       "      <td>0</td>\n",
       "      <td>0</td>\n",
       "      <td>0</td>\n",
       "    </tr>\n",
       "    <tr>\n",
       "      <th>2</th>\n",
       "      <td>ocean</td>\n",
       "      <td>breathed</td>\n",
       "      <td>1</td>\n",
       "      <td>0</td>\n",
       "      <td>0</td>\n",
       "      <td>0</td>\n",
       "      <td>0</td>\n",
       "      <td>0</td>\n",
       "      <td>0</td>\n",
       "      <td>1</td>\n",
       "      <td>...</td>\n",
       "      <td>0</td>\n",
       "      <td>0</td>\n",
       "      <td>0</td>\n",
       "      <td>0</td>\n",
       "      <td>0</td>\n",
       "      <td>0</td>\n",
       "      <td>0</td>\n",
       "      <td>0</td>\n",
       "      <td>0</td>\n",
       "      <td>0</td>\n",
       "    </tr>\n",
       "    <tr>\n",
       "      <th>3</th>\n",
       "      <td>river</td>\n",
       "      <td>carved</td>\n",
       "      <td>1</td>\n",
       "      <td>0</td>\n",
       "      <td>0</td>\n",
       "      <td>0</td>\n",
       "      <td>0</td>\n",
       "      <td>0</td>\n",
       "      <td>0</td>\n",
       "      <td>1</td>\n",
       "      <td>...</td>\n",
       "      <td>0</td>\n",
       "      <td>0</td>\n",
       "      <td>0</td>\n",
       "      <td>0</td>\n",
       "      <td>0</td>\n",
       "      <td>0</td>\n",
       "      <td>0</td>\n",
       "      <td>0</td>\n",
       "      <td>0</td>\n",
       "      <td>0</td>\n",
       "    </tr>\n",
       "    <tr>\n",
       "      <th>4</th>\n",
       "      <td>leaves</td>\n",
       "      <td>whispered</td>\n",
       "      <td>1</td>\n",
       "      <td>1</td>\n",
       "      <td>0</td>\n",
       "      <td>0</td>\n",
       "      <td>1</td>\n",
       "      <td>1</td>\n",
       "      <td>0</td>\n",
       "      <td>0</td>\n",
       "      <td>...</td>\n",
       "      <td>0</td>\n",
       "      <td>0</td>\n",
       "      <td>0</td>\n",
       "      <td>0</td>\n",
       "      <td>0</td>\n",
       "      <td>0</td>\n",
       "      <td>0</td>\n",
       "      <td>0</td>\n",
       "      <td>0</td>\n",
       "      <td>0</td>\n",
       "    </tr>\n",
       "    <tr>\n",
       "      <th>...</th>\n",
       "      <td>...</td>\n",
       "      <td>...</td>\n",
       "      <td>...</td>\n",
       "      <td>...</td>\n",
       "      <td>...</td>\n",
       "      <td>...</td>\n",
       "      <td>...</td>\n",
       "      <td>...</td>\n",
       "      <td>...</td>\n",
       "      <td>...</td>\n",
       "      <td>...</td>\n",
       "      <td>...</td>\n",
       "      <td>...</td>\n",
       "      <td>...</td>\n",
       "      <td>...</td>\n",
       "      <td>...</td>\n",
       "      <td>...</td>\n",
       "      <td>...</td>\n",
       "      <td>...</td>\n",
       "      <td>...</td>\n",
       "      <td>...</td>\n",
       "    </tr>\n",
       "    <tr>\n",
       "      <th>1428</th>\n",
       "      <td>airplane</td>\n",
       "      <td>soared</td>\n",
       "      <td>0</td>\n",
       "      <td>1</td>\n",
       "      <td>0</td>\n",
       "      <td>0</td>\n",
       "      <td>0</td>\n",
       "      <td>0</td>\n",
       "      <td>0</td>\n",
       "      <td>0</td>\n",
       "      <td>...</td>\n",
       "      <td>0</td>\n",
       "      <td>0</td>\n",
       "      <td>0</td>\n",
       "      <td>0</td>\n",
       "      <td>0</td>\n",
       "      <td>0</td>\n",
       "      <td>0</td>\n",
       "      <td>0</td>\n",
       "      <td>0</td>\n",
       "      <td>0</td>\n",
       "    </tr>\n",
       "    <tr>\n",
       "      <th>1429</th>\n",
       "      <td>moon</td>\n",
       "      <td>is visible</td>\n",
       "      <td>0</td>\n",
       "      <td>0</td>\n",
       "      <td>1</td>\n",
       "      <td>0</td>\n",
       "      <td>0</td>\n",
       "      <td>0</td>\n",
       "      <td>0</td>\n",
       "      <td>1</td>\n",
       "      <td>...</td>\n",
       "      <td>0</td>\n",
       "      <td>0</td>\n",
       "      <td>0</td>\n",
       "      <td>0</td>\n",
       "      <td>0</td>\n",
       "      <td>0</td>\n",
       "      <td>0</td>\n",
       "      <td>0</td>\n",
       "      <td>0</td>\n",
       "      <td>0</td>\n",
       "    </tr>\n",
       "    <tr>\n",
       "      <th>1430</th>\n",
       "      <td>sun</td>\n",
       "      <td>shone down</td>\n",
       "      <td>0</td>\n",
       "      <td>0</td>\n",
       "      <td>1</td>\n",
       "      <td>0</td>\n",
       "      <td>0</td>\n",
       "      <td>0</td>\n",
       "      <td>0</td>\n",
       "      <td>1</td>\n",
       "      <td>...</td>\n",
       "      <td>0</td>\n",
       "      <td>0</td>\n",
       "      <td>0</td>\n",
       "      <td>0</td>\n",
       "      <td>0</td>\n",
       "      <td>0</td>\n",
       "      <td>0</td>\n",
       "      <td>0</td>\n",
       "      <td>0</td>\n",
       "      <td>0</td>\n",
       "    </tr>\n",
       "    <tr>\n",
       "      <th>1431</th>\n",
       "      <td>mirror</td>\n",
       "      <td>reflected</td>\n",
       "      <td>0</td>\n",
       "      <td>1</td>\n",
       "      <td>0</td>\n",
       "      <td>0</td>\n",
       "      <td>0</td>\n",
       "      <td>0</td>\n",
       "      <td>0</td>\n",
       "      <td>0</td>\n",
       "      <td>...</td>\n",
       "      <td>1</td>\n",
       "      <td>0</td>\n",
       "      <td>0</td>\n",
       "      <td>0</td>\n",
       "      <td>0</td>\n",
       "      <td>0</td>\n",
       "      <td>0</td>\n",
       "      <td>0</td>\n",
       "      <td>0</td>\n",
       "      <td>0</td>\n",
       "    </tr>\n",
       "    <tr>\n",
       "      <th>1432</th>\n",
       "      <td>fields</td>\n",
       "      <td>were golden</td>\n",
       "      <td>0</td>\n",
       "      <td>1</td>\n",
       "      <td>1</td>\n",
       "      <td>0</td>\n",
       "      <td>1</td>\n",
       "      <td>0</td>\n",
       "      <td>0</td>\n",
       "      <td>1</td>\n",
       "      <td>...</td>\n",
       "      <td>0</td>\n",
       "      <td>0</td>\n",
       "      <td>0</td>\n",
       "      <td>0</td>\n",
       "      <td>0</td>\n",
       "      <td>0</td>\n",
       "      <td>0</td>\n",
       "      <td>0</td>\n",
       "      <td>0</td>\n",
       "      <td>0</td>\n",
       "    </tr>\n",
       "  </tbody>\n",
       "</table>\n",
       "<p>1433 rows × 55 columns</p>\n",
       "</div>"
      ],
      "text/plain": [
       "          noun         verb  type  x0  x1  x2  x3  x4  x5  x6  ...  y16  y17  \\\n",
       "0        stars    whispered     1   0   1   0   0   1   0   1  ...    0    0   \n",
       "1       leaves    fluttered     1   1   0   0   1   1   0   0  ...    0    0   \n",
       "2        ocean     breathed     1   0   0   0   0   0   0   1  ...    0    0   \n",
       "3        river       carved     1   0   0   0   0   0   0   1  ...    0    0   \n",
       "4       leaves    whispered     1   1   0   0   1   1   0   0  ...    0    0   \n",
       "...        ...          ...   ...  ..  ..  ..  ..  ..  ..  ..  ...  ...  ...   \n",
       "1428  airplane       soared     0   1   0   0   0   0   0   0  ...    0    0   \n",
       "1429      moon   is visible     0   0   1   0   0   0   0   1  ...    0    0   \n",
       "1430       sun   shone down     0   0   1   0   0   0   0   1  ...    0    0   \n",
       "1431    mirror    reflected     0   1   0   0   0   0   0   0  ...    1    0   \n",
       "1432    fields  were golden     0   1   1   0   1   0   0   1  ...    0    0   \n",
       "\n",
       "      y18  y19  y20  y21  y22  y23  y24  y25  \n",
       "0       0    0    0    0    0    0    0    0  \n",
       "1       0    0    0    0    0    0    0    0  \n",
       "2       0    0    0    0    0    0    0    0  \n",
       "3       0    0    0    0    0    0    0    0  \n",
       "4       0    0    0    0    0    0    0    0  \n",
       "...   ...  ...  ...  ...  ...  ...  ...  ...  \n",
       "1428    0    0    0    0    0    0    0    0  \n",
       "1429    0    0    0    0    0    0    0    0  \n",
       "1430    0    0    0    0    0    0    0    0  \n",
       "1431    0    0    0    0    0    0    0    0  \n",
       "1432    0    0    0    0    0    0    0    0  \n",
       "\n",
       "[1433 rows x 55 columns]"
      ]
     },
     "execution_count": 52,
     "metadata": {},
     "output_type": "execute_result"
    }
   ],
   "source": [
    "df_final = pd.DataFrame(store_final, columns=columns)\n",
    "df_final"
   ]
  },
  {
   "cell_type": "code",
   "execution_count": 53,
   "metadata": {},
   "outputs": [],
   "source": [
    "df_input_attributes = df_final[df_final.columns[3:]]\n",
    "df_output_attribute = df_final[df_final.columns[2]]"
   ]
  },
  {
   "cell_type": "code",
   "execution_count": 54,
   "metadata": {},
   "outputs": [
    {
     "data": {
      "text/plain": [
       "((1146, 52), (1146,), (287, 52), (287,))"
      ]
     },
     "execution_count": 54,
     "metadata": {},
     "output_type": "execute_result"
    }
   ],
   "source": [
    "x_train, x_test, y_train, y_test = train_test_split(\n",
    "    df_input_attributes,\n",
    "    df_output_attribute,\n",
    "    shuffle = True,\n",
    "    test_size = 0.2\n",
    ")\n",
    "x_train = x_train.values\n",
    "x_test = x_test.values\n",
    "y_train = y_train.values\n",
    "y_test = y_test.values\n",
    "x_train.shape, y_train.shape, x_test.shape, y_test.shape"
   ]
  },
  {
   "attachments": {},
   "cell_type": "markdown",
   "metadata": {},
   "source": [
    "## Declaring models"
   ]
  },
  {
   "cell_type": "code",
   "execution_count": 55,
   "metadata": {},
   "outputs": [],
   "source": [
    "model_nn = Sequential()\n",
    "model_nn.add(Dense(26 * 16, input_shape = (len(x_train[0]),), activation = 'relu'))\n",
    "model_nn.add(Dense(26 * 16, activation = 'relu'))\n",
    "model_nn.add(Dense(26 * 8, activation = 'relu'))\n",
    "model_nn.add(Dense(26 * 4, activation = 'relu'))\n",
    "# model_nn.add(Dropout(0.3))\n",
    "model_nn.add(Dense(26 * 2, activation = 'relu'))\n",
    "model_nn.add(Dense(26, activation = 'relu'))\n",
    "# model_nn.add(Dropout(0.4))\n",
    "model_nn.add(Dense(1, activation = 'sigmoid'))\n",
    "model_nn.compile(loss='binary_crossentropy', optimizer='adam', metrics=['accuracy'])"
   ]
  },
  {
   "cell_type": "code",
   "execution_count": 56,
   "metadata": {},
   "outputs": [],
   "source": [
    "all_models = {\n",
    "    # \"LinearRegression\": LinearRegression(fit_intercept=True, normalize=True, n_jobs=1, copy_X=True),\n",
    "    # \"LogisticRegression\": LogisticRegression(),\n",
    "    \"DecisionTreeClassifier\": DecisionTreeClassifier(),\n",
    "    \"RandomForestClassifier\": RandomForestClassifier(),\n",
    "    \"SVC\": SVC(),\n",
    "    \"KNeighborsClassifier\": KNeighborsClassifier(),\n",
    "    # \"GaussianNB\": GaussianNB(),\n",
    "    \"LinearSVC\": LinearSVC(),\n",
    "    \"Sequential\": model_nn\n",
    "}"
   ]
  },
  {
   "cell_type": "code",
   "execution_count": 57,
   "metadata": {},
   "outputs": [
    {
     "name": "stdout",
     "output_type": "stream",
     "text": [
      "Training DecisionTreeClassifier()\n",
      "Training RandomForestClassifier()\n",
      "Training SVC()\n",
      "Training KNeighborsClassifier()\n",
      "Training LinearSVC()\n",
      "Epoch 1/10\n",
      "36/36 [==============================] - 1s 8ms/step - loss: 0.4680 - accuracy: 0.8290\n",
      "Epoch 2/10\n",
      "36/36 [==============================] - 0s 7ms/step - loss: 0.2625 - accuracy: 0.9119\n",
      "Epoch 3/10\n",
      "36/36 [==============================] - 0s 7ms/step - loss: 0.2113 - accuracy: 0.9319\n",
      "Epoch 4/10\n",
      "36/36 [==============================] - 0s 7ms/step - loss: 0.1897 - accuracy: 0.9415\n",
      "Epoch 5/10\n",
      "36/36 [==============================] - 0s 7ms/step - loss: 0.1560 - accuracy: 0.9503\n",
      "Epoch 6/10\n",
      "36/36 [==============================] - 0s 6ms/step - loss: 0.1615 - accuracy: 0.9433\n",
      "Epoch 7/10\n",
      "36/36 [==============================] - 0s 6ms/step - loss: 0.1484 - accuracy: 0.9503\n",
      "Epoch 8/10\n",
      "36/36 [==============================] - 0s 6ms/step - loss: 0.1376 - accuracy: 0.9555\n",
      "Epoch 9/10\n",
      "36/36 [==============================] - 0s 6ms/step - loss: 0.1210 - accuracy: 0.9590\n",
      "Epoch 10/10\n",
      "36/36 [==============================] - 0s 6ms/step - loss: 0.1199 - accuracy: 0.9555\n"
     ]
    }
   ],
   "source": [
    "trained_all = {\n",
    "\n",
    "}\n",
    "\n",
    "for model in all_models:\n",
    "    try:\n",
    "        if model == \"Sequential\":\n",
    "            trained_model = all_models[model]\n",
    "            history = trained_model.fit(x_train, y_train, epochs = 10)\n",
    "        else:\n",
    "            trained_model, history = train_model(all_models[model], x_train, y_train)\n",
    "        trained_all[model] = {\n",
    "            'model': trained_model,\n",
    "            'history': history,\n",
    "        }\n",
    "    except:\n",
    "        print(\"ERROR\")\n",
    "        print(traceback.format_exc())"
   ]
  },
  {
   "cell_type": "code",
   "execution_count": 58,
   "metadata": {},
   "outputs": [
    {
     "name": "stdout",
     "output_type": "stream",
     "text": [
      "DecisionTreeClassifier()\n"
     ]
    },
    {
     "data": {
      "image/png": "[encoded data removed]",
      "text/plain": [
       "<Figure size 640x480 with 2 Axes>"
      ]
     },
     "metadata": {},
     "output_type": "display_data"
    },
    {
     "name": "stdout",
     "output_type": "stream",
     "text": [
      "DecisionTreeClassifier        : 0.8850174216027874\n",
      "RandomForestClassifier()\n"
     ]
    },
    {
     "data": {
      "image/png": "[encoded data removed]",
      "text/plain": [
       "<Figure size 640x480 with 2 Axes>"
      ]
     },
     "metadata": {},
     "output_type": "display_data"
    },
    {
     "name": "stdout",
     "output_type": "stream",
     "text": [
      "RandomForestClassifier        : 0.9163763066202091\n",
      "SVC()\n"
     ]
    },
    {
     "data": {
      "image/png": "[encoded data removed]",
      "text/plain": [
       "<Figure size 640x480 with 2 Axes>"
      ]
     },
     "metadata": {},
     "output_type": "display_data"
    },
    {
     "name": "stdout",
     "output_type": "stream",
     "text": [
      "SVC                           : 0.89198606271777\n",
      "KNeighborsClassifier()\n"
     ]
    },
    {
     "data": {
      "image/png": "[encoded data removed]",
      "text/plain": [
       "<Figure size 640x480 with 2 Axes>"
      ]
     },
     "metadata": {},
     "output_type": "display_data"
    },
    {
     "name": "stdout",
     "output_type": "stream",
     "text": [
      "KNeighborsClassifier          : 0.8989547038327527\n",
      "LinearSVC()\n"
     ]
    },
    {
     "data": {
      "image/png": "[encoded data removed]",
      "text/plain": [
       "<Figure size 640x480 with 2 Axes>"
      ]
     },
     "metadata": {},
     "output_type": "display_data"
    },
    {
     "name": "stdout",
     "output_type": "stream",
     "text": [
      "LinearSVC                     : 0.8815331010452961\n",
      "<keras.engine.sequential.Sequential object at 0x00000202FEF3DB20>\n",
      "9/9 [==============================] - 0s 3ms/step\n"
     ]
    },
    {
     "data": {
      "image/png": "[encoded data removed]",
      "text/plain": [
       "<Figure size 640x480 with 2 Axes>"
      ]
     },
     "metadata": {},
     "output_type": "display_data"
    },
    {
     "name": "stdout",
     "output_type": "stream",
     "text": [
      "Sequential                    : 0.8989547038327527\n"
     ]
    }
   ],
   "source": [
    "for model in trained_all:\n",
    "    predictions, accuracy = calc_accuracy(trained_all[model]['model'], x_test, y_test, show_confusion_matrix=True)\n",
    "    print(f\"{model:30s}: {accuracy}\")\n",
    "    "
   ]
  },
  {
   "cell_type": "code",
   "execution_count": 59,
   "metadata": {},
   "outputs": [
    {
     "name": "stdout",
     "output_type": "stream",
     "text": [
      "INFO:tensorflow:Assets written to: personification/save_nvpair_models//Sequential\\assets\n"
     ]
    }
   ],
   "source": [
    "model_files = []\n",
    "for model in trained_all:\n",
    "    if model != \"Sequential\":\n",
    "        pickle.dump(trained_all[model]['model'], open(f\"{nvpair_models_dir}/{model}.pickle\", \"wb\"))\n",
    "        model_files.append(model)\n",
    "trained_all['Sequential']['model'].save(f'{nvpair_models_dir}/Sequential')"
   ]
  },
  {
   "cell_type": "code",
   "execution_count": 60,
   "metadata": {},
   "outputs": [],
   "source": [
    "nv_models = {model: pickle.load(open(f\"{nvpair_models_dir}/{model}.pickle\", \"rb\")) for model in [fname.replace('.pickle', '') for fname in os.listdir(f'{nvpair_models_dir}') if os.path.isfile(os.path.join(f\"{nvpair_models_dir}\", fname))]}\n",
    "nv_models['Sequential'] = keras.models.load_model(f\"{nvpair_models_dir}/Sequential\")"
   ]
  },
  {
   "cell_type": "code",
   "execution_count": 61,
   "metadata": {},
   "outputs": [
    {
     "name": "stdout",
     "output_type": "stream",
     "text": [
      "DecisionTreeClassifier()\n"
     ]
    },
    {
     "data": {
      "image/png": "[encoded data removed]",
      "text/plain": [
       "<Figure size 640x480 with 2 Axes>"
      ]
     },
     "metadata": {},
     "output_type": "display_data"
    },
    {
     "name": "stdout",
     "output_type": "stream",
     "text": [
      "DecisionTreeClassifier        : 0.8850174216027874\n",
      "RandomForestClassifier()\n"
     ]
    },
    {
     "data": {
      "image/png": "[encoded data removed]",
      "text/plain": [
       "<Figure size 640x480 with 2 Axes>"
      ]
     },
     "metadata": {},
     "output_type": "display_data"
    },
    {
     "name": "stdout",
     "output_type": "stream",
     "text": [
      "RandomForestClassifier        : 0.9163763066202091\n",
      "SVC()\n"
     ]
    },
    {
     "data": {
      "image/png": "[encoded data removed]",
      "text/plain": [
       "<Figure size 640x480 with 2 Axes>"
      ]
     },
     "metadata": {},
     "output_type": "display_data"
    },
    {
     "name": "stdout",
     "output_type": "stream",
     "text": [
      "SVC                           : 0.89198606271777\n",
      "KNeighborsClassifier()\n"
     ]
    },
    {
     "data": {
      "image/png": "[encoded data removed]",
      "text/plain": [
       "<Figure size 640x480 with 2 Axes>"
      ]
     },
     "metadata": {},
     "output_type": "display_data"
    },
    {
     "name": "stdout",
     "output_type": "stream",
     "text": [
      "KNeighborsClassifier          : 0.8989547038327527\n",
      "LinearSVC()\n"
     ]
    },
    {
     "data": {
      "image/png": "[encoded data removed]",
      "text/plain": [
       "<Figure size 640x480 with 2 Axes>"
      ]
     },
     "metadata": {},
     "output_type": "display_data"
    },
    {
     "name": "stdout",
     "output_type": "stream",
     "text": [
      "LinearSVC                     : 0.8815331010452961\n",
      "<keras.engine.sequential.Sequential object at 0x00000202FEF3DB20>\n",
      "9/9 [==============================] - 0s 3ms/step\n"
     ]
    },
    {
     "data": {
      "image/png": "[encoded data removed]",
      "text/plain": [
       "<Figure size 640x480 with 2 Axes>"
      ]
     },
     "metadata": {},
     "output_type": "display_data"
    },
    {
     "name": "stdout",
     "output_type": "stream",
     "text": [
      "Sequential                    : 0.8989547038327527\n",
      "9/9 [==============================] - 0s 3ms/step\n",
      "Ensemble - Mix of all models - 0.9059233449477352\n"
     ]
    },
    {
     "data": {
      "image/png": "[encoded data removed]",
      "text/plain": [
       "<Figure size 640x480 with 2 Axes>"
      ]
     },
     "metadata": {},
     "output_type": "display_data"
    }
   ],
   "source": [
    "for model in trained_all:\n",
    "    predictions, accuracy = calc_accuracy(trained_all[model]['model'], x_test, y_test, show_confusion_matrix = True)\n",
    "    print(f\"{model:30s}: {accuracy}\")\n",
    "\n",
    "predictor = ensemble_classification_predictor([model['model'] for model in trained_all.values()])\n",
    "predictions = predictor.predict(x_test)\n",
    "actual = np.array(y_test).flatten()\n",
    "predictions = np.array(predictions).flatten()\n",
    "results = predictions == actual\n",
    "count_right = list(results).count(True)\n",
    "print(f\"Ensemble - Mix of all models - {count_right/len(predictions)}\")\n",
    "plot_confusion_matrix(\"Ensemble - Mix of all models\", predictions, y_test)\n",
    "    "
   ]
  },
  {
   "cell_type": "code",
   "execution_count": 62,
   "metadata": {},
   "outputs": [],
   "source": [
    "class nv_pair:\n",
    "    def __init__(self, models_dir = nvpair_models_dir, discard_animate_inanimate = False, discard_nvpair = False):\n",
    "        self.noun_vector_order = [\n",
    "                \"artifact\", \"person\", \"animal\", \"act\", \n",
    "                \"communication\", \"substance\", \"object\", \n",
    "                \"group\", \"food\", \"quantity\", \"cognition\", \n",
    "                \"attribute\", \"body\", \"event\", \"location\", \n",
    "                \"state\", \"shape\", \"plant\", \"possession\", \n",
    "                \"phenomenon\", \"time\", \"Tops\", \"process\", \n",
    "                \"relation\", \"feeling\", \"motive\"\n",
    "            ]\n",
    "        \n",
    "        self.verb_vector_order = [\n",
    "            'motion', 'contact', 'communication', \n",
    "            'stative', 'change', 'perception', \n",
    "            'social', 'body', 'all', 'creation', \n",
    "            'possession', 'competition', 'cognition', \n",
    "            'act', 'consumption', 'emotion', 'weather', \n",
    "            'artifact', 'ppl', 'plant', 'attribute', \n",
    "            'group', 'event', 'location', 'shape', 'substance'\n",
    "            ]\n",
    "        \n",
    "        self.noun_vector_size = 40\n",
    "        self.verb_vector_size = 40\n",
    "        self.nv_models = {model: pickle.load(open(f\"{models_dir}/{model}.pickle\", \"rb\")) for model in [fname.replace('.pickle', '') for fname in os.listdir(models_dir) if os.path.isfile(os.path.join(models_dir, fname))]}\n",
    "        self.nv_models['Sequential'] = keras.models.load_model(f\"{models_dir}/Sequential\")\n",
    "        self.discard_animate_inanimate = discard_animate_inanimate\n",
    "        self.discard_nvpair = discard_nvpair\n",
    "\n",
    "        \n",
    "    def _get_lextypes(self, word, noun = True):\n",
    "        '''\n",
    "        Function to get the different types of the word\n",
    "        \n",
    "        Gives noun types only by default\n",
    "        '''\n",
    "        synsets = wn.synsets(str(word))\n",
    "        lextypes = []\n",
    "        if noun:\n",
    "            for synset in synsets:\n",
    "                lexname = synset.lexname()\n",
    "                pos, word_type = lexname.split(\".\")\n",
    "                if pos == 'noun':\n",
    "                    lextypes.append(word_type)\n",
    "        else:\n",
    "            for synset in synsets:\n",
    "                lexname = synset.lexname()\n",
    "                pos, word_type = lexname.split(\".\")\n",
    "                lextypes.append(word_type)\n",
    "        return set(lextypes)\n",
    "    \n",
    "    def get_noun_lextypes(self, word):\n",
    "        return self._get_lextypes(word)\n",
    "    \n",
    "    def get_verb_lextypes(self, word):\n",
    "        return self._get_lextypes(word, False)\n",
    "    \n",
    "    def get_noun_vector_string(self, noun):\n",
    "        noun_types = set(self._get_lextypes(noun))\n",
    "        resultant_vector = [\n",
    "            1 if ltype in noun_types else 0\n",
    "                for ltype in self.noun_vector_order\n",
    "            ]\n",
    "        return resultant_vector\n",
    "\n",
    "    def get_verb_vector_string(self, verb):\n",
    "        verb_types = set(self._get_lextypes(verb))\n",
    "        resultant_vector = [\n",
    "            1 if ltype in verb_types else 0\n",
    "                for ltype in self.verb_vector_order\n",
    "            ]\n",
    "        return resultant_vector\n",
    "        \n",
    "    def get_noun_vector(self, strings):\n",
    "        return [\n",
    "            self.get_noun_vector_string(string) for string in strings\n",
    "        ]\n",
    "    \n",
    "    def get_verb_vector(self, strings):\n",
    "        return [\n",
    "            self.get_verb_vector_string(string) for string in strings\n",
    "        ]\n",
    "    \n",
    "    def get_nv_pair(self, tup):\n",
    "        sent = str(tup[0])\n",
    "        doc = nlp(sent)\n",
    "\n",
    "        start = tup[0].i\n",
    "        end = start + len(doc)\n",
    "        verb = tup[1].i\n",
    "\n",
    "        head_token = []\n",
    "        for token in doc:\n",
    "            if token.head == token:\n",
    "                head_token.append(token)\n",
    "        head_token = head_token[0]\n",
    "        # print(tup, str(head_token), str(tup[1]))\n",
    "        nvs = self.get_noun_vector_string(str(head_token))\n",
    "        vvs = self.get_verb_vector_string(str(tup[1]))\n",
    "        return str(head_token), str(tup[1]), nvs, vvs\n",
    "    \n",
    "    def predict_ensemble(self, predictions):\n",
    "        true_count = 0\n",
    "        for prediction in predictions:\n",
    "            if prediction:\n",
    "                true_count += 1\n",
    "        if (true_count/len(predictions)) > 0.5:\n",
    "            return True\n",
    "        else:\n",
    "            return False\n",
    "        \n",
    "    def fix_predictions(self, predictions):\n",
    "        '''\n",
    "        if values are in range 0 to 1 - shifts to True or False\n",
    "        '''\n",
    "        predictions = np.array(predictions)\n",
    "        fixer = np.vectorize(lambda num: True if (num == True or num > 0.5) else False)\n",
    "        predictions = fixer(predictions)\n",
    "        return predictions\n",
    "    \n",
    "    def get_vector(self, tup):\n",
    "        ntext, vtext, nvec, vvec = self.get_nv_pair(tup)\n",
    "        fvec = nvec[:self.noun_vector_size] + vvec[:self.verb_vector_size]\n",
    "        return fvec\n",
    "    \n",
    "    def is_nvpair(self, sentences):\n",
    "        '''\n",
    "        Function - returns personification exists or not in sentences\n",
    "        '''\n",
    "        if type(sentences) != list and type(sentences) != tuple:\n",
    "            sentences = [sentences]\n",
    "        X_predict = sentences\n",
    "        X_pairs_predict = list(personification.extract_pairs(X_predict))\n",
    "        store_nv_vectors = []\n",
    "\n",
    "        for i, pairs in tqdm.tqdm(enumerate(X_pairs_predict), total= len(X_pairs_predict)):\n",
    "            stemp = []\n",
    "            for pair in pairs:\n",
    "                nvv = self.get_vector(pair)\n",
    "                # print(nvv)\n",
    "                stemp.append(nvv)\n",
    "            store_nv_vectors.append(stemp)\n",
    "        # print(store_nv_vectors)\n",
    "        indices = [num for num in range(len(store_nv_vectors)) if len(store_nv_vectors[num]) > 0]\n",
    "        final_nv_vectors = [store_nv_vectors[num][0] for num in indices]\n",
    "        # print(final_nv_vectors)\n",
    "        predictions = []\n",
    "        for model in self.nv_models:\n",
    "            predictions.append(self.nv_models[model].predict(final_nv_vectors))\n",
    "        for num in range(len(predictions)):\n",
    "            predictions[num] = self.fix_predictions(predictions[num])\n",
    "        predictions_from_models = []\n",
    "        for num in range(len(predictions[0])):\n",
    "            predictions_from_models.append([arr[num] for arr in predictions])\n",
    "        predictions_final = [\n",
    "            self.predict_ensemble(row) for row in predictions_from_models\n",
    "        ]\n",
    "        return X_pairs_predict, predictions_final, indices\n",
    "    \n",
    "    def final_prediction(self, sentences):\n",
    "        if type(sentences) != list and type(sentences) != tuple:\n",
    "            sentences = [sentences]\n",
    "        nlp_res, nv_pair, indices = self.is_nvpair(sentences)\n",
    "        nvpair_matches = []\n",
    "        for nvpair_res, ind in zip(nv_pair, indices):\n",
    "            if nvpair_res or self.discard_nvpair:\n",
    "                nvpair_matches.append(ind)\n",
    "        pers = personification.get_personifications(sentences)\n",
    "        # for per in pers:\n",
    "        #     print(per[0])\n",
    "        final_predictions = []\n",
    "        for match in nvpair_matches:\n",
    "            if len(pers[match]) > 0:\n",
    "                if pers[match][0][1] or self.discard_animate_inanimate:\n",
    "                    final_predictions.append(match)\n",
    "        return final_predictions\n",
    "\n",
    "mynvp = nv_pair()"
   ]
  },
  {
   "cell_type": "code",
   "execution_count": 63,
   "metadata": {},
   "outputs": [],
   "source": [
    "inps_np = [line.strip() for line in open(\"personification/np.txt\").readlines()]\n",
    "inps_p = [line.strip() for line in open(\"personification/p.txt\").readlines()]"
   ]
  },
  {
   "cell_type": "code",
   "execution_count": 64,
   "metadata": {},
   "outputs": [],
   "source": [
    "mynvp_with_animate_inanimate = nv_pair()\n",
    "mynvp_without_animate_inanimate = nv_pair(discard_animate_inanimate = True)\n",
    "mynvp_without_nvpair = nv_pair(discard_nvpair = True)"
   ]
  },
  {
   "cell_type": "code",
   "execution_count": 65,
   "metadata": {},
   "outputs": [
    {
     "name": "stderr",
     "output_type": "stream",
     "text": [
      "100%|██████████| 796/796 [00:01<00:00, 736.47it/s]\n",
      "100%|██████████| 796/796 [00:02<00:00, 390.04it/s]\n"
     ]
    },
    {
     "name": "stdout",
     "output_type": "stream",
     "text": [
      "23/23 [==============================] - 0s 3ms/step\n",
      "24/24 [==============================] - 0s 4ms/step\n"
     ]
    },
    {
     "name": "stderr",
     "output_type": "stream",
     "text": [
      "100%|██████████| 1195/1195 [00:01<00:00, 822.42it/s]\n",
      "100%|██████████| 1195/1195 [00:03<00:00, 380.62it/s]\n"
     ]
    },
    {
     "name": "stdout",
     "output_type": "stream",
     "text": [
      "33/33 [==============================] - 0s 2ms/step\n",
      "25/25 [==============================] - 0s 3ms/step\n",
      "Inanimate + Matched Noun-Verb pairs - Accuracy: 0.7930688096433953\n"
     ]
    },
    {
     "data": {
      "image/png": "[encoded data removed]",
      "text/plain": [
       "<Figure size 640x480 with 2 Axes>"
      ]
     },
     "metadata": {},
     "output_type": "display_data"
    },
    {
     "name": "stdout",
     "output_type": "stream",
     "text": [
      "[('precision:', 0.8983402489626556), ('recall:', 0.5439698492462312), ('accuracy:', 0.7930688096433953), ('f1_score:', 0.6776212832550861)]\n"
     ]
    },
    {
     "data": {
      "text/plain": [
       "(0.8983402489626556,\n",
       " 0.5439698492462312,\n",
       " 0.7930688096433953,\n",
       " 0.6776212832550861)"
      ]
     },
     "execution_count": 65,
     "metadata": {},
     "output_type": "execute_result"
    }
   ],
   "source": [
    "res_final_p = set(mynvp_with_animate_inanimate.final_prediction(inps_p))\n",
    "res_final_np = set(mynvp_with_animate_inanimate.final_prediction(inps_np))\n",
    "stats_p = [1 if num in res_final_p else 0 for num in range(len(inps_p))]\n",
    "stats_np = [1 if num in res_final_np else 0 for num in range(len(inps_np))]\n",
    "exp_p = [1 for _ in range(len(inps_p))]\n",
    "exp_np = [0 for _ in range(len(inps_np))]\n",
    "stats_all = stats_p + stats_np\n",
    "exp_all = exp_p + exp_np\n",
    "stats_all = np.array(stats_all)\n",
    "exp_all = np.array(exp_all)\n",
    "len(stats_all), len(exp_all)\n",
    "results = stats_all == exp_all\n",
    "results = list(results)\n",
    "print(f\"Inanimate + Matched Noun-Verb pairs - Accuracy: {results.count(True) / len(results)}\")\n",
    "plot_confusion_matrix(\"Inanimate + Matched Noun-Verb pairs\", exp_all, stats_all)\n",
    "precision_recall_accuracy_f1(exp_all, stats_all)"
   ]
  },
  {
   "cell_type": "code",
   "execution_count": 68,
   "metadata": {},
   "outputs": [
    {
     "name": "stderr",
     "output_type": "stream",
     "text": [
      "100%|██████████| 796/796 [00:01<00:00, 734.77it/s]\n",
      "100%|██████████| 796/796 [00:02<00:00, 368.24it/s]\n"
     ]
    },
    {
     "name": "stdout",
     "output_type": "stream",
     "text": [
      "23/23 [==============================] - 0s 4ms/step\n",
      "24/24 [==============================] - 0s 3ms/step\n"
     ]
    },
    {
     "name": "stderr",
     "output_type": "stream",
     "text": [
      "100%|██████████| 1195/1195 [00:01<00:00, 923.63it/s]\n",
      "100%|██████████| 1195/1195 [00:03<00:00, 372.08it/s]\n"
     ]
    },
    {
     "name": "stdout",
     "output_type": "stream",
     "text": [
      "33/33 [==============================] - 0s 4ms/step\n",
      "25/25 [==============================] - 0s 3ms/step\n",
      "Noun-Verb pairs ONLY - Accuracy: 0.8533400301356102\n"
     ]
    },
    {
     "data": {
      "image/png": "[encoded data removed]",
      "text/plain": [
       "<Figure size 640x480 with 2 Axes>"
      ]
     },
     "metadata": {},
     "output_type": "display_data"
    },
    {
     "name": "stdout",
     "output_type": "stream",
     "text": [
      "[('precision:', 0.9038461538461539), ('recall:', 0.7085427135678392), ('accuracy:', 0.8533400301356102), ('f1_score:', 0.7943661971830985)]\n"
     ]
    },
    {
     "data": {
      "text/plain": [
       "(0.9038461538461539,\n",
       " 0.7085427135678392,\n",
       " 0.8533400301356102,\n",
       " 0.7943661971830985)"
      ]
     },
     "execution_count": 68,
     "metadata": {},
     "output_type": "execute_result"
    }
   ],
   "source": [
    "res_final_p = set(mynvp_without_animate_inanimate.final_prediction(inps_p))\n",
    "res_final_np = set(mynvp_without_animate_inanimate.final_prediction(inps_np))\n",
    "stats_p = [1 if num in res_final_p else 0 for num in range(len(inps_p))]\n",
    "stats_np = [1 if num in res_final_np else 0 for num in range(len(inps_np))]\n",
    "exp_p = [1 for _ in range(len(inps_p))]\n",
    "exp_np = [0 for _ in range(len(inps_np))]\n",
    "stats_all = stats_p + stats_np\n",
    "exp_all = exp_p + exp_np\n",
    "stats_all = np.array(stats_all)\n",
    "exp_all = np.array(exp_all)\n",
    "len(stats_all), len(exp_all)\n",
    "results = stats_all == exp_all\n",
    "results = list(results)\n",
    "print(f\"Noun-Verb pairs ONLY - Accuracy: {results.count(True) / len(results)}\")\n",
    "plot_confusion_matrix(\"Noun-Verb pairs ONLY\", exp_all, stats_all)\n",
    "precision_recall_accuracy_f1(exp_all, stats_all)"
   ]
  },
  {
   "cell_type": "code",
   "execution_count": 69,
   "metadata": {},
   "outputs": [
    {
     "name": "stderr",
     "output_type": "stream",
     "text": [
      "100%|██████████| 796/796 [00:01<00:00, 730.32it/s]\n",
      "100%|██████████| 796/796 [00:02<00:00, 381.56it/s]\n"
     ]
    },
    {
     "name": "stdout",
     "output_type": "stream",
     "text": [
      "23/23 [==============================] - 0s 4ms/step\n",
      "24/24 [==============================] - 0s 4ms/step\n"
     ]
    },
    {
     "name": "stderr",
     "output_type": "stream",
     "text": [
      "100%|██████████| 1195/1195 [00:01<00:00, 859.50it/s]\n",
      "100%|██████████| 1195/1195 [00:03<00:00, 329.12it/s]\n"
     ]
    },
    {
     "name": "stdout",
     "output_type": "stream",
     "text": [
      "33/33 [==============================] - 0s 4ms/step\n",
      "25/25 [==============================] - 0s 5ms/step\n",
      "Inanimate Pairs ONLY - Accuracy: 0.5394274234053239\n"
     ]
    },
    {
     "data": {
      "image/png": "[encoded data removed]",
      "text/plain": [
       "<Figure size 640x480 with 2 Axes>"
      ]
     },
     "metadata": {},
     "output_type": "display_data"
    },
    {
     "name": "stdout",
     "output_type": "stream",
     "text": [
      "[('precision:', 0.452249408050513), ('recall:', 0.7198492462311558), ('accuracy:', 0.5394274234053239), ('f1_score:', 0.5555016965584101)]\n"
     ]
    },
    {
     "data": {
      "text/plain": [
       "(0.452249408050513, 0.7198492462311558, 0.5394274234053239, 0.5555016965584101)"
      ]
     },
     "execution_count": 69,
     "metadata": {},
     "output_type": "execute_result"
    }
   ],
   "source": [
    "res_final_p = set(mynvp_without_nvpair.final_prediction(inps_p))\n",
    "res_final_np = set(mynvp_without_nvpair.final_prediction(inps_np))\n",
    "stats_p = [1 if num in res_final_p else 0 for num in range(len(inps_p))]\n",
    "stats_np = [1 if num in res_final_np else 0 for num in range(len(inps_np))]\n",
    "exp_p = [1 for _ in range(len(inps_p))]\n",
    "exp_np = [0 for _ in range(len(inps_np))]\n",
    "stats_all = stats_p + stats_np\n",
    "exp_all = exp_p + exp_np\n",
    "stats_all = np.array(stats_all)\n",
    "exp_all = np.array(exp_all)\n",
    "len(stats_all), len(exp_all)\n",
    "results = stats_all == exp_all\n",
    "results = list(results)\n",
    "print(f\"Inanimate Pairs ONLY - Accuracy: {results.count(True) / len(results)}\")\n",
    "plot_confusion_matrix(\"Inanimate Pairs ONLY\", exp_all, stats_all)\n",
    "precision_recall_accuracy_f1(exp_all, stats_all)"
   ]
  },
  {
   "cell_type": "code",
   "execution_count": 70,
   "metadata": {},
   "outputs": [],
   "source": [
    "def predict(inputs, discard_animate_inanimate = True, discard_nvpair = False):\n",
    "    mynvp_temp = nv_pair(discard_animate_inanimate = discard_animate_inanimate, discard_nvpair = discard_nvpair)\n",
    "    predictions = set(mynvp_temp.final_prediction(inputs))\n",
    "    return [inputs[i] for i in range(len(inputs)) if i in predictions]"
   ]
  },
  {
   "cell_type": "code",
   "execution_count": 73,
   "metadata": {},
   "outputs": [
    {
     "name": "stderr",
     "output_type": "stream",
     "text": [
      "100%|██████████| 30/30 [00:00<00:00, 596.96it/s]\n",
      "100%|██████████| 30/30 [00:00<00:00, 251.50it/s]\n"
     ]
    },
    {
     "name": "stdout",
     "output_type": "stream",
     "text": [
      "1/1 [==============================] - 0s 172ms/step\n",
      "1/1 [==============================] - 0s 44ms/step\n",
      "The leaves rustled and chattered in the autumn breeze.\n",
      "The flowers smiled up at the sun.\n",
      "The ocean roared like a ferocious beast, hungry for its prey.\n",
      "The leaves rustled like a whispered secret in the wind.\n",
      "The stars winked and blinked at us, like mischievous children.\n",
      "The trees bowed their heads in respect for the passing storm.\n",
      "The trees stretched towards the sun, like worshippers reaching for their deity.\n",
      "The clouds hung low in the sky, like a heavy burden weighing us down.\n",
      "The stars sang a song of wonder, like a celestial choir.\n",
      "The ocean ebbed and flowed, like a living thing.\n",
      "The flowers danced in the gentle breeze.\n",
      "The flowers danced in the breeze.\n",
      "The sun hid behind the clouds.\n",
      "The lightning slashed the sky like a sword.\n",
      "The raindrops danced on the pavement.\n"
     ]
    }
   ],
   "source": [
    "inputs = '''The light in the room was dim and needed to be brightened.\n",
    "The pavement was cracked and uneven.\n",
    "The door handle turned easily, allowing me to enter the room.\n",
    "The bike tire hissed as I pumped it up with air.\n",
    "The road was long and winding.\n",
    "The broom swept up the dust and dirt.\n",
    "The scissors cut the paper in a straight line.\n",
    "The car drove down the winding road.\n",
    "The stars twinkled in the night sky.\n",
    "The pillow was soft and comfortable to sleep on.\n",
    "The leaves rustled and chattered in the autumn breeze.\n",
    "The flowers smiled up at the sun.\n",
    "The stars winked at us from the sky.\n",
    "The river sang a melody of its own, like a master musician.\n",
    "The ocean roared like a ferocious beast, hungry for its prey.\n",
    "The leaves rustled like a whispered secret in the wind.\n",
    "The stars winked and blinked at us, like mischievous children.\n",
    "The snow crunched under my boots.\n",
    "The trees swayed in the breeze like dancers, moving to the rhythm of the wind.\n",
    "The trees bowed their heads in respect for the passing storm.\n",
    "The trees stretched towards the sun, like worshippers reaching for their deity.\n",
    "The clouds hung low in the sky, like a heavy burden weighing us down.\n",
    "The stars sang a song of wonder, like a celestial choir.\n",
    "The ocean ebbed and flowed, like a living thing.\n",
    "The stars twinkled like diamonds.\n",
    "The flowers danced in the gentle breeze.\n",
    "The flowers danced in the breeze.\n",
    "The sun hid behind the clouds.\n",
    "The lightning slashed the sky like a sword.\n",
    "The raindrops danced on the pavement.'''\n",
    "inputs = inputs.split(\"\\n\")\n",
    "results = predict(inputs)\n",
    "for line in results:\n",
    "    print(line)"
   ]
  }
 ],
 "metadata": {
  "kernelspec": {
   "display_name": "base",
   "language": "python",
   "name": "python3"
  },
  "language_info": {
   "codemirror_mode": {
    "name": "ipython",
    "version": 3
   },
   "file_extension": ".py",
   "mimetype": "text/x-python",
   "name": "python",
   "nbconvert_exporter": "python",
   "pygments_lexer": "ipython3",
   "version": "3.9.13"
  },
  "orig_nbformat": 4
 },
 "nbformat": 4,
 "nbformat_minor": 2
}
